{
 "cells": [
  {
   "cell_type": "code",
   "execution_count": 1,
   "id": "086178b8",
   "metadata": {},
   "outputs": [],
   "source": [
    "import numpy as np\n",
    "import pandas as pd\n",
    "import sklearn\n",
    "import matplotlib.pyplot as plt\n",
    "import seaborn as sns\n",
    "import warnings\n",
    "warnings.filterwarnings('ignore')"
   ]
  },
  {
   "cell_type": "code",
   "execution_count": 2,
   "id": "48bcdd45",
   "metadata": {},
   "outputs": [],
   "source": [
    "df=pd.read_csv('https://raw.githubusercontent.com/dsrscientist/Data-Science-ML-Capstone-Projects/master/Automobile_insurance_fraud.csv')"
   ]
  },
  {
   "cell_type": "code",
   "execution_count": 3,
   "id": "422d7021",
   "metadata": {},
   "outputs": [
    {
     "data": {
      "text/html": [
       "<div>\n",
       "<style scoped>\n",
       "    .dataframe tbody tr th:only-of-type {\n",
       "        vertical-align: middle;\n",
       "    }\n",
       "\n",
       "    .dataframe tbody tr th {\n",
       "        vertical-align: top;\n",
       "    }\n",
       "\n",
       "    .dataframe thead th {\n",
       "        text-align: right;\n",
       "    }\n",
       "</style>\n",
       "<table border=\"1\" class=\"dataframe\">\n",
       "  <thead>\n",
       "    <tr style=\"text-align: right;\">\n",
       "      <th></th>\n",
       "      <th>months_as_customer</th>\n",
       "      <th>age</th>\n",
       "      <th>policy_number</th>\n",
       "      <th>policy_bind_date</th>\n",
       "      <th>policy_state</th>\n",
       "      <th>policy_csl</th>\n",
       "      <th>policy_deductable</th>\n",
       "      <th>policy_annual_premium</th>\n",
       "      <th>umbrella_limit</th>\n",
       "      <th>insured_zip</th>\n",
       "      <th>...</th>\n",
       "      <th>police_report_available</th>\n",
       "      <th>total_claim_amount</th>\n",
       "      <th>injury_claim</th>\n",
       "      <th>property_claim</th>\n",
       "      <th>vehicle_claim</th>\n",
       "      <th>auto_make</th>\n",
       "      <th>auto_model</th>\n",
       "      <th>auto_year</th>\n",
       "      <th>fraud_reported</th>\n",
       "      <th>_c39</th>\n",
       "    </tr>\n",
       "  </thead>\n",
       "  <tbody>\n",
       "    <tr>\n",
       "      <th>0</th>\n",
       "      <td>328</td>\n",
       "      <td>48</td>\n",
       "      <td>521585</td>\n",
       "      <td>17-10-2014</td>\n",
       "      <td>OH</td>\n",
       "      <td>250/500</td>\n",
       "      <td>1000</td>\n",
       "      <td>1406.91</td>\n",
       "      <td>0</td>\n",
       "      <td>466132</td>\n",
       "      <td>...</td>\n",
       "      <td>YES</td>\n",
       "      <td>71610</td>\n",
       "      <td>6510</td>\n",
       "      <td>13020</td>\n",
       "      <td>52080</td>\n",
       "      <td>Saab</td>\n",
       "      <td>92x</td>\n",
       "      <td>2004</td>\n",
       "      <td>Y</td>\n",
       "      <td>NaN</td>\n",
       "    </tr>\n",
       "    <tr>\n",
       "      <th>1</th>\n",
       "      <td>228</td>\n",
       "      <td>42</td>\n",
       "      <td>342868</td>\n",
       "      <td>27-06-2006</td>\n",
       "      <td>IN</td>\n",
       "      <td>250/500</td>\n",
       "      <td>2000</td>\n",
       "      <td>1197.22</td>\n",
       "      <td>5000000</td>\n",
       "      <td>468176</td>\n",
       "      <td>...</td>\n",
       "      <td>?</td>\n",
       "      <td>5070</td>\n",
       "      <td>780</td>\n",
       "      <td>780</td>\n",
       "      <td>3510</td>\n",
       "      <td>Mercedes</td>\n",
       "      <td>E400</td>\n",
       "      <td>2007</td>\n",
       "      <td>Y</td>\n",
       "      <td>NaN</td>\n",
       "    </tr>\n",
       "    <tr>\n",
       "      <th>2</th>\n",
       "      <td>134</td>\n",
       "      <td>29</td>\n",
       "      <td>687698</td>\n",
       "      <td>06-09-2000</td>\n",
       "      <td>OH</td>\n",
       "      <td>100/300</td>\n",
       "      <td>2000</td>\n",
       "      <td>1413.14</td>\n",
       "      <td>5000000</td>\n",
       "      <td>430632</td>\n",
       "      <td>...</td>\n",
       "      <td>NO</td>\n",
       "      <td>34650</td>\n",
       "      <td>7700</td>\n",
       "      <td>3850</td>\n",
       "      <td>23100</td>\n",
       "      <td>Dodge</td>\n",
       "      <td>RAM</td>\n",
       "      <td>2007</td>\n",
       "      <td>N</td>\n",
       "      <td>NaN</td>\n",
       "    </tr>\n",
       "    <tr>\n",
       "      <th>3</th>\n",
       "      <td>256</td>\n",
       "      <td>41</td>\n",
       "      <td>227811</td>\n",
       "      <td>25-05-1990</td>\n",
       "      <td>IL</td>\n",
       "      <td>250/500</td>\n",
       "      <td>2000</td>\n",
       "      <td>1415.74</td>\n",
       "      <td>6000000</td>\n",
       "      <td>608117</td>\n",
       "      <td>...</td>\n",
       "      <td>NO</td>\n",
       "      <td>63400</td>\n",
       "      <td>6340</td>\n",
       "      <td>6340</td>\n",
       "      <td>50720</td>\n",
       "      <td>Chevrolet</td>\n",
       "      <td>Tahoe</td>\n",
       "      <td>2014</td>\n",
       "      <td>Y</td>\n",
       "      <td>NaN</td>\n",
       "    </tr>\n",
       "    <tr>\n",
       "      <th>4</th>\n",
       "      <td>228</td>\n",
       "      <td>44</td>\n",
       "      <td>367455</td>\n",
       "      <td>06-06-2014</td>\n",
       "      <td>IL</td>\n",
       "      <td>500/1000</td>\n",
       "      <td>1000</td>\n",
       "      <td>1583.91</td>\n",
       "      <td>6000000</td>\n",
       "      <td>610706</td>\n",
       "      <td>...</td>\n",
       "      <td>NO</td>\n",
       "      <td>6500</td>\n",
       "      <td>1300</td>\n",
       "      <td>650</td>\n",
       "      <td>4550</td>\n",
       "      <td>Accura</td>\n",
       "      <td>RSX</td>\n",
       "      <td>2009</td>\n",
       "      <td>N</td>\n",
       "      <td>NaN</td>\n",
       "    </tr>\n",
       "  </tbody>\n",
       "</table>\n",
       "<p>5 rows × 40 columns</p>\n",
       "</div>"
      ],
      "text/plain": [
       "   months_as_customer  age  policy_number policy_bind_date policy_state  \\\n",
       "0                 328   48         521585       17-10-2014           OH   \n",
       "1                 228   42         342868       27-06-2006           IN   \n",
       "2                 134   29         687698       06-09-2000           OH   \n",
       "3                 256   41         227811       25-05-1990           IL   \n",
       "4                 228   44         367455       06-06-2014           IL   \n",
       "\n",
       "  policy_csl  policy_deductable  policy_annual_premium  umbrella_limit  \\\n",
       "0    250/500               1000                1406.91               0   \n",
       "1    250/500               2000                1197.22         5000000   \n",
       "2    100/300               2000                1413.14         5000000   \n",
       "3    250/500               2000                1415.74         6000000   \n",
       "4   500/1000               1000                1583.91         6000000   \n",
       "\n",
       "   insured_zip  ... police_report_available total_claim_amount injury_claim  \\\n",
       "0       466132  ...                     YES              71610         6510   \n",
       "1       468176  ...                       ?               5070          780   \n",
       "2       430632  ...                      NO              34650         7700   \n",
       "3       608117  ...                      NO              63400         6340   \n",
       "4       610706  ...                      NO               6500         1300   \n",
       "\n",
       "  property_claim vehicle_claim  auto_make  auto_model auto_year  \\\n",
       "0          13020         52080       Saab         92x      2004   \n",
       "1            780          3510   Mercedes        E400      2007   \n",
       "2           3850         23100      Dodge         RAM      2007   \n",
       "3           6340         50720  Chevrolet       Tahoe      2014   \n",
       "4            650          4550     Accura         RSX      2009   \n",
       "\n",
       "  fraud_reported _c39  \n",
       "0              Y  NaN  \n",
       "1              Y  NaN  \n",
       "2              N  NaN  \n",
       "3              Y  NaN  \n",
       "4              N  NaN  \n",
       "\n",
       "[5 rows x 40 columns]"
      ]
     },
     "execution_count": 3,
     "metadata": {},
     "output_type": "execute_result"
    }
   ],
   "source": [
    "df.head()"
   ]
  },
  {
   "cell_type": "code",
   "execution_count": 4,
   "id": "dda099e8",
   "metadata": {},
   "outputs": [
    {
     "data": {
      "text/plain": [
       "(1000, 40)"
      ]
     },
     "execution_count": 4,
     "metadata": {},
     "output_type": "execute_result"
    }
   ],
   "source": [
    "df.shape"
   ]
  },
  {
   "cell_type": "code",
   "execution_count": 5,
   "id": "be7f7429",
   "metadata": {},
   "outputs": [
    {
     "data": {
      "text/plain": [
       "months_as_customer                0\n",
       "age                               0\n",
       "policy_number                     0\n",
       "policy_bind_date                  0\n",
       "policy_state                      0\n",
       "policy_csl                        0\n",
       "policy_deductable                 0\n",
       "policy_annual_premium             0\n",
       "umbrella_limit                    0\n",
       "insured_zip                       0\n",
       "insured_sex                       0\n",
       "insured_education_level           0\n",
       "insured_occupation                0\n",
       "insured_hobbies                   0\n",
       "insured_relationship              0\n",
       "capital-gains                     0\n",
       "capital-loss                      0\n",
       "incident_date                     0\n",
       "incident_type                     0\n",
       "collision_type                    0\n",
       "incident_severity                 0\n",
       "authorities_contacted             0\n",
       "incident_state                    0\n",
       "incident_city                     0\n",
       "incident_location                 0\n",
       "incident_hour_of_the_day          0\n",
       "number_of_vehicles_involved       0\n",
       "property_damage                   0\n",
       "bodily_injuries                   0\n",
       "witnesses                         0\n",
       "police_report_available           0\n",
       "total_claim_amount                0\n",
       "injury_claim                      0\n",
       "property_claim                    0\n",
       "vehicle_claim                     0\n",
       "auto_make                         0\n",
       "auto_model                        0\n",
       "auto_year                         0\n",
       "fraud_reported                    0\n",
       "_c39                           1000\n",
       "dtype: int64"
      ]
     },
     "execution_count": 5,
     "metadata": {},
     "output_type": "execute_result"
    }
   ],
   "source": [
    "df.isna().sum()"
   ]
  },
  {
   "cell_type": "code",
   "execution_count": 6,
   "id": "56a59aac",
   "metadata": {},
   "outputs": [
    {
     "data": {
      "text/plain": [
       "months_as_customer               int64\n",
       "age                              int64\n",
       "policy_number                    int64\n",
       "policy_bind_date                object\n",
       "policy_state                    object\n",
       "policy_csl                      object\n",
       "policy_deductable                int64\n",
       "policy_annual_premium          float64\n",
       "umbrella_limit                   int64\n",
       "insured_zip                      int64\n",
       "insured_sex                     object\n",
       "insured_education_level         object\n",
       "insured_occupation              object\n",
       "insured_hobbies                 object\n",
       "insured_relationship            object\n",
       "capital-gains                    int64\n",
       "capital-loss                     int64\n",
       "incident_date                   object\n",
       "incident_type                   object\n",
       "collision_type                  object\n",
       "incident_severity               object\n",
       "authorities_contacted           object\n",
       "incident_state                  object\n",
       "incident_city                   object\n",
       "incident_location               object\n",
       "incident_hour_of_the_day         int64\n",
       "number_of_vehicles_involved      int64\n",
       "property_damage                 object\n",
       "bodily_injuries                  int64\n",
       "witnesses                        int64\n",
       "police_report_available         object\n",
       "total_claim_amount               int64\n",
       "injury_claim                     int64\n",
       "property_claim                   int64\n",
       "vehicle_claim                    int64\n",
       "auto_make                       object\n",
       "auto_model                      object\n",
       "auto_year                        int64\n",
       "fraud_reported                  object\n",
       "_c39                           float64\n",
       "dtype: object"
      ]
     },
     "execution_count": 6,
     "metadata": {},
     "output_type": "execute_result"
    }
   ],
   "source": [
    "df.dtypes"
   ]
  },
  {
   "cell_type": "code",
   "execution_count": 7,
   "id": "ffbb00d8",
   "metadata": {},
   "outputs": [],
   "source": [
    "df=df.drop(columns='_c39')"
   ]
  },
  {
   "cell_type": "code",
   "execution_count": 8,
   "id": "42fefc77",
   "metadata": {},
   "outputs": [
    {
     "data": {
      "text/plain": [
       "['policy_bind_date',\n",
       " 'policy_state',\n",
       " 'policy_csl',\n",
       " 'insured_sex',\n",
       " 'insured_education_level',\n",
       " 'insured_occupation',\n",
       " 'insured_hobbies',\n",
       " 'insured_relationship',\n",
       " 'incident_date',\n",
       " 'incident_type',\n",
       " 'collision_type',\n",
       " 'incident_severity',\n",
       " 'authorities_contacted',\n",
       " 'incident_state',\n",
       " 'incident_city',\n",
       " 'incident_location',\n",
       " 'property_damage',\n",
       " 'police_report_available',\n",
       " 'auto_make',\n",
       " 'auto_model',\n",
       " 'fraud_reported']"
      ]
     },
     "execution_count": 8,
     "metadata": {},
     "output_type": "execute_result"
    }
   ],
   "source": [
    "#Separating the numerical and categorical variables to get better visualisation.\n",
    "\n",
    "col=[]\n",
    "for i in df.columns:\n",
    "    if df[i].dtypes == 'object':\n",
    "        col.append(i)\n",
    "\n",
    "\n",
    "col"
   ]
  },
  {
   "cell_type": "code",
   "execution_count": 9,
   "id": "1e54ef1f",
   "metadata": {},
   "outputs": [
    {
     "name": "stdout",
     "output_type": "stream",
     "text": [
      "01-01-2006    3\n",
      "28-04-1992    3\n",
      "05-08-1992    3\n",
      "14-12-1991    2\n",
      "09-08-2004    2\n",
      "             ..\n",
      "03-06-2014    1\n",
      "12-12-1998    1\n",
      "18-02-1999    1\n",
      "30-10-1997    1\n",
      "11-11-1996    1\n",
      "Name: policy_bind_date, Length: 951, dtype: int64\n",
      "OH    352\n",
      "IL    338\n",
      "IN    310\n",
      "Name: policy_state, dtype: int64\n",
      "250/500     351\n",
      "100/300     349\n",
      "500/1000    300\n",
      "Name: policy_csl, dtype: int64\n",
      "FEMALE    537\n",
      "MALE      463\n",
      "Name: insured_sex, dtype: int64\n",
      "JD             161\n",
      "High School    160\n",
      "Associate      145\n",
      "MD             144\n",
      "Masters        143\n",
      "PhD            125\n",
      "College        122\n",
      "Name: insured_education_level, dtype: int64\n",
      "machine-op-inspct    93\n",
      "prof-specialty       85\n",
      "tech-support         78\n",
      "sales                76\n",
      "exec-managerial      76\n",
      "craft-repair         74\n",
      "transport-moving     72\n",
      "other-service        71\n",
      "priv-house-serv      71\n",
      "armed-forces         69\n",
      "adm-clerical         65\n",
      "protective-serv      63\n",
      "handlers-cleaners    54\n",
      "farming-fishing      53\n",
      "Name: insured_occupation, dtype: int64\n",
      "reading           64\n",
      "exercise          57\n",
      "paintball         57\n",
      "bungie-jumping    56\n",
      "movies            55\n",
      "golf              55\n",
      "camping           55\n",
      "kayaking          54\n",
      "yachting          53\n",
      "hiking            52\n",
      "video-games       50\n",
      "skydiving         49\n",
      "base-jumping      49\n",
      "board-games       48\n",
      "polo              47\n",
      "chess             46\n",
      "dancing           43\n",
      "sleeping          41\n",
      "cross-fit         35\n",
      "basketball        34\n",
      "Name: insured_hobbies, dtype: int64\n",
      "own-child         183\n",
      "other-relative    177\n",
      "not-in-family     174\n",
      "husband           170\n",
      "wife              155\n",
      "unmarried         141\n",
      "Name: insured_relationship, dtype: int64\n",
      "02-02-2015    28\n",
      "17-02-2015    26\n",
      "07-01-2015    25\n",
      "10-01-2015    24\n",
      "04-02-2015    24\n",
      "24-01-2015    24\n",
      "19-01-2015    23\n",
      "08-01-2015    22\n",
      "13-01-2015    21\n",
      "30-01-2015    21\n",
      "12-02-2015    20\n",
      "22-02-2015    20\n",
      "31-01-2015    20\n",
      "06-02-2015    20\n",
      "21-02-2015    19\n",
      "01-01-2015    19\n",
      "23-02-2015    19\n",
      "12-01-2015    19\n",
      "14-01-2015    19\n",
      "21-01-2015    19\n",
      "03-01-2015    18\n",
      "14-02-2015    18\n",
      "01-02-2015    18\n",
      "28-02-2015    18\n",
      "20-01-2015    18\n",
      "18-01-2015    18\n",
      "25-02-2015    18\n",
      "06-01-2015    17\n",
      "09-01-2015    17\n",
      "08-02-2015    17\n",
      "24-02-2015    17\n",
      "26-02-2015    17\n",
      "13-02-2015    16\n",
      "15-02-2015    16\n",
      "16-02-2015    16\n",
      "05-02-2015    16\n",
      "16-01-2015    16\n",
      "17-01-2015    15\n",
      "18-02-2015    15\n",
      "28-01-2015    15\n",
      "15-01-2015    15\n",
      "22-01-2015    14\n",
      "20-02-2015    14\n",
      "27-02-2015    14\n",
      "23-01-2015    13\n",
      "03-02-2015    13\n",
      "27-01-2015    13\n",
      "09-02-2015    13\n",
      "04-01-2015    12\n",
      "01-03-2015    12\n",
      "26-01-2015    11\n",
      "29-01-2015    11\n",
      "02-01-2015    11\n",
      "19-02-2015    10\n",
      "11-02-2015    10\n",
      "10-02-2015    10\n",
      "07-02-2015    10\n",
      "25-01-2015    10\n",
      "11-01-2015     9\n",
      "05-01-2015     7\n",
      "Name: incident_date, dtype: int64\n",
      "Multi-vehicle Collision     419\n",
      "Single Vehicle Collision    403\n",
      "Vehicle Theft                94\n",
      "Parked Car                   84\n",
      "Name: incident_type, dtype: int64\n",
      "Rear Collision     292\n",
      "Side Collision     276\n",
      "Front Collision    254\n",
      "?                  178\n",
      "Name: collision_type, dtype: int64\n",
      "Minor Damage      354\n",
      "Total Loss        280\n",
      "Major Damage      276\n",
      "Trivial Damage     90\n",
      "Name: incident_severity, dtype: int64\n",
      "Police       292\n",
      "Fire         223\n",
      "Other        198\n",
      "Ambulance    196\n",
      "None          91\n",
      "Name: authorities_contacted, dtype: int64\n",
      "NY    262\n",
      "SC    248\n",
      "WV    217\n",
      "VA    110\n",
      "NC    110\n",
      "PA     30\n",
      "OH     23\n",
      "Name: incident_state, dtype: int64\n",
      "Springfield    157\n",
      "Arlington      152\n",
      "Columbus       149\n",
      "Northbend      145\n",
      "Hillsdale      141\n",
      "Riverwood      134\n",
      "Northbrook     122\n",
      "Name: incident_city, dtype: int64\n",
      "9935 4th Drive         1\n",
      "4214 MLK Ridge         1\n",
      "8548 Cherokee Ridge    1\n",
      "2352 MLK Drive         1\n",
      "9734 2nd Ridge         1\n",
      "                      ..\n",
      "6770 1st St            1\n",
      "4119 Texas St          1\n",
      "4347 2nd Ridge         1\n",
      "1091 1st Drive         1\n",
      "1416 Cherokee Ridge    1\n",
      "Name: incident_location, Length: 1000, dtype: int64\n",
      "?      360\n",
      "NO     338\n",
      "YES    302\n",
      "Name: property_damage, dtype: int64\n",
      "?      343\n",
      "NO     343\n",
      "YES    314\n",
      "Name: police_report_available, dtype: int64\n",
      "Saab          80\n",
      "Dodge         80\n",
      "Suburu        80\n",
      "Nissan        78\n",
      "Chevrolet     76\n",
      "Ford          72\n",
      "BMW           72\n",
      "Toyota        70\n",
      "Audi          69\n",
      "Accura        68\n",
      "Volkswagen    68\n",
      "Jeep          67\n",
      "Mercedes      65\n",
      "Honda         55\n",
      "Name: auto_make, dtype: int64\n",
      "RAM               43\n",
      "Wrangler          42\n",
      "A3                37\n",
      "Neon              37\n",
      "MDX               36\n",
      "Jetta             35\n",
      "Passat            33\n",
      "A5                32\n",
      "Legacy            32\n",
      "Pathfinder        31\n",
      "Malibu            30\n",
      "92x               28\n",
      "Camry             28\n",
      "Forrestor         28\n",
      "F150              27\n",
      "95                27\n",
      "E400              27\n",
      "93                25\n",
      "Grand Cherokee    25\n",
      "Escape            24\n",
      "Tahoe             24\n",
      "Maxima            24\n",
      "Ultima            23\n",
      "X5                23\n",
      "Highlander        22\n",
      "Civic             22\n",
      "Silverado         22\n",
      "Fusion            21\n",
      "ML350             20\n",
      "Impreza           20\n",
      "Corolla           20\n",
      "TL                20\n",
      "CRV               20\n",
      "C300              18\n",
      "3 Series          18\n",
      "X6                16\n",
      "M5                15\n",
      "Accord            13\n",
      "RSX               12\n",
      "Name: auto_model, dtype: int64\n",
      "N    753\n",
      "Y    247\n",
      "Name: fraud_reported, dtype: int64\n"
     ]
    }
   ],
   "source": [
    "for i in col:\n",
    "    print(df[i].value_counts())"
   ]
  },
  {
   "cell_type": "code",
   "execution_count": 10,
   "id": "69fb0ef9",
   "metadata": {},
   "outputs": [],
   "source": [
    "# Let us change the ? to Nan values first so that we can impute.\n",
    "df = df.replace('?',np.NaN)"
   ]
  },
  {
   "cell_type": "code",
   "execution_count": 11,
   "id": "32aa8a95",
   "metadata": {},
   "outputs": [
    {
     "data": {
      "text/plain": [
       "months_as_customer               0\n",
       "age                              0\n",
       "policy_number                    0\n",
       "policy_bind_date                 0\n",
       "policy_state                     0\n",
       "policy_csl                       0\n",
       "policy_deductable                0\n",
       "policy_annual_premium            0\n",
       "umbrella_limit                   0\n",
       "insured_zip                      0\n",
       "insured_sex                      0\n",
       "insured_education_level          0\n",
       "insured_occupation               0\n",
       "insured_hobbies                  0\n",
       "insured_relationship             0\n",
       "capital-gains                    0\n",
       "capital-loss                     0\n",
       "incident_date                    0\n",
       "incident_type                    0\n",
       "collision_type                 178\n",
       "incident_severity                0\n",
       "authorities_contacted            0\n",
       "incident_state                   0\n",
       "incident_city                    0\n",
       "incident_location                0\n",
       "incident_hour_of_the_day         0\n",
       "number_of_vehicles_involved      0\n",
       "property_damage                360\n",
       "bodily_injuries                  0\n",
       "witnesses                        0\n",
       "police_report_available        343\n",
       "total_claim_amount               0\n",
       "injury_claim                     0\n",
       "property_claim                   0\n",
       "vehicle_claim                    0\n",
       "auto_make                        0\n",
       "auto_model                       0\n",
       "auto_year                        0\n",
       "fraud_reported                   0\n",
       "dtype: int64"
      ]
     },
     "execution_count": 11,
     "metadata": {},
     "output_type": "execute_result"
    }
   ],
   "source": [
    "df.isna().sum()"
   ]
  },
  {
   "cell_type": "markdown",
   "id": "27cf6df7",
   "metadata": {},
   "source": [
    "Now we have values changed to nan, now we can go ahead to impute the data using simple imputer."
   ]
  },
  {
   "cell_type": "code",
   "execution_count": 12,
   "id": "ccbb960d",
   "metadata": {},
   "outputs": [],
   "source": [
    "from sklearn.impute import SimpleImputer"
   ]
  },
  {
   "cell_type": "code",
   "execution_count": 13,
   "id": "2f9c332b",
   "metadata": {},
   "outputs": [],
   "source": [
    "imp = SimpleImputer(missing_values=np.nan, strategy='most_frequent')\n",
    "df['collision_type'] = imp.fit_transform(df['collision_type'].values.reshape(-1, 1))"
   ]
  },
  {
   "cell_type": "code",
   "execution_count": 14,
   "id": "7b85de3c",
   "metadata": {},
   "outputs": [
    {
     "data": {
      "text/plain": [
       "months_as_customer             0\n",
       "age                            0\n",
       "policy_number                  0\n",
       "policy_bind_date               0\n",
       "policy_state                   0\n",
       "policy_csl                     0\n",
       "policy_deductable              0\n",
       "policy_annual_premium          0\n",
       "umbrella_limit                 0\n",
       "insured_zip                    0\n",
       "insured_sex                    0\n",
       "insured_education_level        0\n",
       "insured_occupation             0\n",
       "insured_hobbies                0\n",
       "insured_relationship           0\n",
       "capital-gains                  0\n",
       "capital-loss                   0\n",
       "incident_date                  0\n",
       "incident_type                  0\n",
       "collision_type                 0\n",
       "incident_severity              0\n",
       "authorities_contacted          0\n",
       "incident_state                 0\n",
       "incident_city                  0\n",
       "incident_location              0\n",
       "incident_hour_of_the_day       0\n",
       "number_of_vehicles_involved    0\n",
       "property_damage                0\n",
       "bodily_injuries                0\n",
       "witnesses                      0\n",
       "police_report_available        0\n",
       "total_claim_amount             0\n",
       "injury_claim                   0\n",
       "property_claim                 0\n",
       "vehicle_claim                  0\n",
       "auto_make                      0\n",
       "auto_model                     0\n",
       "auto_year                      0\n",
       "fraud_reported                 0\n",
       "dtype: int64"
      ]
     },
     "execution_count": 14,
     "metadata": {},
     "output_type": "execute_result"
    }
   ],
   "source": [
    "#Using fillna to impute the na values to No.\n",
    "\n",
    "df['property_damage'].fillna('NO', inplace = True)\n",
    "df['police_report_available'].fillna('NO', inplace = True)\n",
    "\n",
    "df.isna().sum()"
   ]
  },
  {
   "cell_type": "markdown",
   "id": "d58134ab",
   "metadata": {},
   "source": [
    "Now, NaN's are treated, let's delete unnecessary columns to make sure that the data is clean."
   ]
  },
  {
   "cell_type": "code",
   "execution_count": 15,
   "id": "327c92c3",
   "metadata": {},
   "outputs": [
    {
     "data": {
      "text/html": [
       "<div>\n",
       "<style scoped>\n",
       "    .dataframe tbody tr th:only-of-type {\n",
       "        vertical-align: middle;\n",
       "    }\n",
       "\n",
       "    .dataframe tbody tr th {\n",
       "        vertical-align: top;\n",
       "    }\n",
       "\n",
       "    .dataframe thead th {\n",
       "        text-align: right;\n",
       "    }\n",
       "</style>\n",
       "<table border=\"1\" class=\"dataframe\">\n",
       "  <thead>\n",
       "    <tr style=\"text-align: right;\">\n",
       "      <th></th>\n",
       "      <th>months_as_customer</th>\n",
       "      <th>age</th>\n",
       "      <th>policy_state</th>\n",
       "      <th>policy_csl</th>\n",
       "      <th>policy_deductable</th>\n",
       "      <th>policy_annual_premium</th>\n",
       "      <th>umbrella_limit</th>\n",
       "      <th>insured_zip</th>\n",
       "      <th>insured_sex</th>\n",
       "      <th>insured_education_level</th>\n",
       "      <th>...</th>\n",
       "      <th>bodily_injuries</th>\n",
       "      <th>witnesses</th>\n",
       "      <th>police_report_available</th>\n",
       "      <th>total_claim_amount</th>\n",
       "      <th>injury_claim</th>\n",
       "      <th>property_claim</th>\n",
       "      <th>vehicle_claim</th>\n",
       "      <th>auto_make</th>\n",
       "      <th>auto_year</th>\n",
       "      <th>fraud_reported</th>\n",
       "    </tr>\n",
       "  </thead>\n",
       "  <tbody>\n",
       "    <tr>\n",
       "      <th>0</th>\n",
       "      <td>328</td>\n",
       "      <td>48</td>\n",
       "      <td>OH</td>\n",
       "      <td>250/500</td>\n",
       "      <td>1000</td>\n",
       "      <td>1406.91</td>\n",
       "      <td>0</td>\n",
       "      <td>466132</td>\n",
       "      <td>MALE</td>\n",
       "      <td>MD</td>\n",
       "      <td>...</td>\n",
       "      <td>1</td>\n",
       "      <td>2</td>\n",
       "      <td>YES</td>\n",
       "      <td>71610</td>\n",
       "      <td>6510</td>\n",
       "      <td>13020</td>\n",
       "      <td>52080</td>\n",
       "      <td>Saab</td>\n",
       "      <td>2004</td>\n",
       "      <td>Y</td>\n",
       "    </tr>\n",
       "    <tr>\n",
       "      <th>1</th>\n",
       "      <td>228</td>\n",
       "      <td>42</td>\n",
       "      <td>IN</td>\n",
       "      <td>250/500</td>\n",
       "      <td>2000</td>\n",
       "      <td>1197.22</td>\n",
       "      <td>5000000</td>\n",
       "      <td>468176</td>\n",
       "      <td>MALE</td>\n",
       "      <td>MD</td>\n",
       "      <td>...</td>\n",
       "      <td>0</td>\n",
       "      <td>0</td>\n",
       "      <td>NO</td>\n",
       "      <td>5070</td>\n",
       "      <td>780</td>\n",
       "      <td>780</td>\n",
       "      <td>3510</td>\n",
       "      <td>Mercedes</td>\n",
       "      <td>2007</td>\n",
       "      <td>Y</td>\n",
       "    </tr>\n",
       "    <tr>\n",
       "      <th>2</th>\n",
       "      <td>134</td>\n",
       "      <td>29</td>\n",
       "      <td>OH</td>\n",
       "      <td>100/300</td>\n",
       "      <td>2000</td>\n",
       "      <td>1413.14</td>\n",
       "      <td>5000000</td>\n",
       "      <td>430632</td>\n",
       "      <td>FEMALE</td>\n",
       "      <td>PhD</td>\n",
       "      <td>...</td>\n",
       "      <td>2</td>\n",
       "      <td>3</td>\n",
       "      <td>NO</td>\n",
       "      <td>34650</td>\n",
       "      <td>7700</td>\n",
       "      <td>3850</td>\n",
       "      <td>23100</td>\n",
       "      <td>Dodge</td>\n",
       "      <td>2007</td>\n",
       "      <td>N</td>\n",
       "    </tr>\n",
       "    <tr>\n",
       "      <th>3</th>\n",
       "      <td>256</td>\n",
       "      <td>41</td>\n",
       "      <td>IL</td>\n",
       "      <td>250/500</td>\n",
       "      <td>2000</td>\n",
       "      <td>1415.74</td>\n",
       "      <td>6000000</td>\n",
       "      <td>608117</td>\n",
       "      <td>FEMALE</td>\n",
       "      <td>PhD</td>\n",
       "      <td>...</td>\n",
       "      <td>1</td>\n",
       "      <td>2</td>\n",
       "      <td>NO</td>\n",
       "      <td>63400</td>\n",
       "      <td>6340</td>\n",
       "      <td>6340</td>\n",
       "      <td>50720</td>\n",
       "      <td>Chevrolet</td>\n",
       "      <td>2014</td>\n",
       "      <td>Y</td>\n",
       "    </tr>\n",
       "    <tr>\n",
       "      <th>4</th>\n",
       "      <td>228</td>\n",
       "      <td>44</td>\n",
       "      <td>IL</td>\n",
       "      <td>500/1000</td>\n",
       "      <td>1000</td>\n",
       "      <td>1583.91</td>\n",
       "      <td>6000000</td>\n",
       "      <td>610706</td>\n",
       "      <td>MALE</td>\n",
       "      <td>Associate</td>\n",
       "      <td>...</td>\n",
       "      <td>0</td>\n",
       "      <td>1</td>\n",
       "      <td>NO</td>\n",
       "      <td>6500</td>\n",
       "      <td>1300</td>\n",
       "      <td>650</td>\n",
       "      <td>4550</td>\n",
       "      <td>Accura</td>\n",
       "      <td>2009</td>\n",
       "      <td>N</td>\n",
       "    </tr>\n",
       "    <tr>\n",
       "      <th>...</th>\n",
       "      <td>...</td>\n",
       "      <td>...</td>\n",
       "      <td>...</td>\n",
       "      <td>...</td>\n",
       "      <td>...</td>\n",
       "      <td>...</td>\n",
       "      <td>...</td>\n",
       "      <td>...</td>\n",
       "      <td>...</td>\n",
       "      <td>...</td>\n",
       "      <td>...</td>\n",
       "      <td>...</td>\n",
       "      <td>...</td>\n",
       "      <td>...</td>\n",
       "      <td>...</td>\n",
       "      <td>...</td>\n",
       "      <td>...</td>\n",
       "      <td>...</td>\n",
       "      <td>...</td>\n",
       "      <td>...</td>\n",
       "      <td>...</td>\n",
       "    </tr>\n",
       "    <tr>\n",
       "      <th>995</th>\n",
       "      <td>3</td>\n",
       "      <td>38</td>\n",
       "      <td>OH</td>\n",
       "      <td>500/1000</td>\n",
       "      <td>1000</td>\n",
       "      <td>1310.80</td>\n",
       "      <td>0</td>\n",
       "      <td>431289</td>\n",
       "      <td>FEMALE</td>\n",
       "      <td>Masters</td>\n",
       "      <td>...</td>\n",
       "      <td>0</td>\n",
       "      <td>1</td>\n",
       "      <td>NO</td>\n",
       "      <td>87200</td>\n",
       "      <td>17440</td>\n",
       "      <td>8720</td>\n",
       "      <td>61040</td>\n",
       "      <td>Honda</td>\n",
       "      <td>2006</td>\n",
       "      <td>N</td>\n",
       "    </tr>\n",
       "    <tr>\n",
       "      <th>996</th>\n",
       "      <td>285</td>\n",
       "      <td>41</td>\n",
       "      <td>IL</td>\n",
       "      <td>100/300</td>\n",
       "      <td>1000</td>\n",
       "      <td>1436.79</td>\n",
       "      <td>0</td>\n",
       "      <td>608177</td>\n",
       "      <td>FEMALE</td>\n",
       "      <td>PhD</td>\n",
       "      <td>...</td>\n",
       "      <td>2</td>\n",
       "      <td>3</td>\n",
       "      <td>NO</td>\n",
       "      <td>108480</td>\n",
       "      <td>18080</td>\n",
       "      <td>18080</td>\n",
       "      <td>72320</td>\n",
       "      <td>Volkswagen</td>\n",
       "      <td>2015</td>\n",
       "      <td>N</td>\n",
       "    </tr>\n",
       "    <tr>\n",
       "      <th>997</th>\n",
       "      <td>130</td>\n",
       "      <td>34</td>\n",
       "      <td>OH</td>\n",
       "      <td>250/500</td>\n",
       "      <td>500</td>\n",
       "      <td>1383.49</td>\n",
       "      <td>3000000</td>\n",
       "      <td>442797</td>\n",
       "      <td>FEMALE</td>\n",
       "      <td>Masters</td>\n",
       "      <td>...</td>\n",
       "      <td>2</td>\n",
       "      <td>3</td>\n",
       "      <td>YES</td>\n",
       "      <td>67500</td>\n",
       "      <td>7500</td>\n",
       "      <td>7500</td>\n",
       "      <td>52500</td>\n",
       "      <td>Suburu</td>\n",
       "      <td>1996</td>\n",
       "      <td>N</td>\n",
       "    </tr>\n",
       "    <tr>\n",
       "      <th>998</th>\n",
       "      <td>458</td>\n",
       "      <td>62</td>\n",
       "      <td>IL</td>\n",
       "      <td>500/1000</td>\n",
       "      <td>2000</td>\n",
       "      <td>1356.92</td>\n",
       "      <td>5000000</td>\n",
       "      <td>441714</td>\n",
       "      <td>MALE</td>\n",
       "      <td>Associate</td>\n",
       "      <td>...</td>\n",
       "      <td>0</td>\n",
       "      <td>1</td>\n",
       "      <td>YES</td>\n",
       "      <td>46980</td>\n",
       "      <td>5220</td>\n",
       "      <td>5220</td>\n",
       "      <td>36540</td>\n",
       "      <td>Audi</td>\n",
       "      <td>1998</td>\n",
       "      <td>N</td>\n",
       "    </tr>\n",
       "    <tr>\n",
       "      <th>999</th>\n",
       "      <td>456</td>\n",
       "      <td>60</td>\n",
       "      <td>OH</td>\n",
       "      <td>250/500</td>\n",
       "      <td>1000</td>\n",
       "      <td>766.19</td>\n",
       "      <td>0</td>\n",
       "      <td>612260</td>\n",
       "      <td>FEMALE</td>\n",
       "      <td>Associate</td>\n",
       "      <td>...</td>\n",
       "      <td>0</td>\n",
       "      <td>3</td>\n",
       "      <td>NO</td>\n",
       "      <td>5060</td>\n",
       "      <td>460</td>\n",
       "      <td>920</td>\n",
       "      <td>3680</td>\n",
       "      <td>Mercedes</td>\n",
       "      <td>2007</td>\n",
       "      <td>N</td>\n",
       "    </tr>\n",
       "  </tbody>\n",
       "</table>\n",
       "<p>1000 rows × 33 columns</p>\n",
       "</div>"
      ],
      "text/plain": [
       "     months_as_customer  age policy_state policy_csl  policy_deductable  \\\n",
       "0                   328   48           OH    250/500               1000   \n",
       "1                   228   42           IN    250/500               2000   \n",
       "2                   134   29           OH    100/300               2000   \n",
       "3                   256   41           IL    250/500               2000   \n",
       "4                   228   44           IL   500/1000               1000   \n",
       "..                  ...  ...          ...        ...                ...   \n",
       "995                   3   38           OH   500/1000               1000   \n",
       "996                 285   41           IL    100/300               1000   \n",
       "997                 130   34           OH    250/500                500   \n",
       "998                 458   62           IL   500/1000               2000   \n",
       "999                 456   60           OH    250/500               1000   \n",
       "\n",
       "     policy_annual_premium  umbrella_limit  insured_zip insured_sex  \\\n",
       "0                  1406.91               0       466132        MALE   \n",
       "1                  1197.22         5000000       468176        MALE   \n",
       "2                  1413.14         5000000       430632      FEMALE   \n",
       "3                  1415.74         6000000       608117      FEMALE   \n",
       "4                  1583.91         6000000       610706        MALE   \n",
       "..                     ...             ...          ...         ...   \n",
       "995                1310.80               0       431289      FEMALE   \n",
       "996                1436.79               0       608177      FEMALE   \n",
       "997                1383.49         3000000       442797      FEMALE   \n",
       "998                1356.92         5000000       441714        MALE   \n",
       "999                 766.19               0       612260      FEMALE   \n",
       "\n",
       "    insured_education_level  ... bodily_injuries witnesses  \\\n",
       "0                        MD  ...               1         2   \n",
       "1                        MD  ...               0         0   \n",
       "2                       PhD  ...               2         3   \n",
       "3                       PhD  ...               1         2   \n",
       "4                 Associate  ...               0         1   \n",
       "..                      ...  ...             ...       ...   \n",
       "995                 Masters  ...               0         1   \n",
       "996                     PhD  ...               2         3   \n",
       "997                 Masters  ...               2         3   \n",
       "998               Associate  ...               0         1   \n",
       "999               Associate  ...               0         3   \n",
       "\n",
       "    police_report_available  total_claim_amount  injury_claim property_claim  \\\n",
       "0                       YES               71610          6510          13020   \n",
       "1                        NO                5070           780            780   \n",
       "2                        NO               34650          7700           3850   \n",
       "3                        NO               63400          6340           6340   \n",
       "4                        NO                6500          1300            650   \n",
       "..                      ...                 ...           ...            ...   \n",
       "995                      NO               87200         17440           8720   \n",
       "996                      NO              108480         18080          18080   \n",
       "997                     YES               67500          7500           7500   \n",
       "998                     YES               46980          5220           5220   \n",
       "999                      NO                5060           460            920   \n",
       "\n",
       "    vehicle_claim   auto_make auto_year fraud_reported  \n",
       "0           52080        Saab      2004              Y  \n",
       "1            3510    Mercedes      2007              Y  \n",
       "2           23100       Dodge      2007              N  \n",
       "3           50720   Chevrolet      2014              Y  \n",
       "4            4550      Accura      2009              N  \n",
       "..            ...         ...       ...            ...  \n",
       "995         61040       Honda      2006              N  \n",
       "996         72320  Volkswagen      2015              N  \n",
       "997         52500      Suburu      1996              N  \n",
       "998         36540        Audi      1998              N  \n",
       "999          3680    Mercedes      2007              N  \n",
       "\n",
       "[1000 rows x 33 columns]"
      ]
     },
     "execution_count": 15,
     "metadata": {},
     "output_type": "execute_result"
    }
   ],
   "source": [
    "df = df.drop(['policy_number','policy_bind_date', 'incident_date','incident_location','auto_model', 'incident_hour_of_the_day'], axis = 1)\n",
    "df"
   ]
  },
  {
   "cell_type": "markdown",
   "id": "795fa376",
   "metadata": {},
   "source": [
    "# Visualization"
   ]
  },
  {
   "cell_type": "code",
   "execution_count": 16,
   "id": "15877908",
   "metadata": {},
   "outputs": [
    {
     "name": "stdout",
     "output_type": "stream",
     "text": [
      "OH    352\n",
      "IL    338\n",
      "IN    310\n",
      "Name: policy_state, dtype: int64\n"
     ]
    },
    {
     "data": {
      "image/png": "[encoded data removed]",
      "text/plain": [
       "<Figure size 720x360 with 1 Axes>"
      ]
     },
     "metadata": {
      "needs_background": "light"
     },
     "output_type": "display_data"
    },
    {
     "name": "stdout",
     "output_type": "stream",
     "text": [
      "250/500     351\n",
      "100/300     349\n",
      "500/1000    300\n",
      "Name: policy_csl, dtype: int64\n"
     ]
    },
    {
     "data": {
      "image/png": "[encoded data removed]",
      "text/plain": [
       "<Figure size 720x360 with 1 Axes>"
      ]
     },
     "metadata": {
      "needs_background": "light"
     },
     "output_type": "display_data"
    },
    {
     "name": "stdout",
     "output_type": "stream",
     "text": [
      "FEMALE    537\n",
      "MALE      463\n",
      "Name: insured_sex, dtype: int64\n"
     ]
    },
    {
     "data": {
      "image/png": "[encoded data removed]",
      "text/plain": [
       "<Figure size 720x360 with 1 Axes>"
      ]
     },
     "metadata": {
      "needs_background": "light"
     },
     "output_type": "display_data"
    },
    {
     "name": "stdout",
     "output_type": "stream",
     "text": [
      "JD             161\n",
      "High School    160\n",
      "Associate      145\n",
      "MD             144\n",
      "Masters        143\n",
      "PhD            125\n",
      "College        122\n",
      "Name: insured_education_level, dtype: int64\n"
     ]
    },
    {
     "data": {
      "image/png": "[encoded data removed]",
      "text/plain": [
       "<Figure size 720x360 with 1 Axes>"
      ]
     },
     "metadata": {
      "needs_background": "light"
     },
     "output_type": "display_data"
    },
    {
     "name": "stdout",
     "output_type": "stream",
     "text": [
      "machine-op-inspct    93\n",
      "prof-specialty       85\n",
      "tech-support         78\n",
      "sales                76\n",
      "exec-managerial      76\n",
      "craft-repair         74\n",
      "transport-moving     72\n",
      "other-service        71\n",
      "priv-house-serv      71\n",
      "armed-forces         69\n",
      "adm-clerical         65\n",
      "protective-serv      63\n",
      "handlers-cleaners    54\n",
      "farming-fishing      53\n",
      "Name: insured_occupation, dtype: int64\n"
     ]
    },
    {
     "data": {
      "image/png": "[encoded data removed]",
      "text/plain": [
       "<Figure size 720x360 with 1 Axes>"
      ]
     },
     "metadata": {
      "needs_background": "light"
     },
     "output_type": "display_data"
    },
    {
     "name": "stdout",
     "output_type": "stream",
     "text": [
      "reading           64\n",
      "exercise          57\n",
      "paintball         57\n",
      "bungie-jumping    56\n",
      "movies            55\n",
      "golf              55\n",
      "camping           55\n",
      "kayaking          54\n",
      "yachting          53\n",
      "hiking            52\n",
      "video-games       50\n",
      "skydiving         49\n",
      "base-jumping      49\n",
      "board-games       48\n",
      "polo              47\n",
      "chess             46\n",
      "dancing           43\n",
      "sleeping          41\n",
      "cross-fit         35\n",
      "basketball        34\n",
      "Name: insured_hobbies, dtype: int64\n"
     ]
    },
    {
     "data": {
      "image/png": "[encoded data removed]",
      "text/plain": [
       "<Figure size 720x360 with 1 Axes>"
      ]
     },
     "metadata": {
      "needs_background": "light"
     },
     "output_type": "display_data"
    },
    {
     "name": "stdout",
     "output_type": "stream",
     "text": [
      "own-child         183\n",
      "other-relative    177\n",
      "not-in-family     174\n",
      "husband           170\n",
      "wife              155\n",
      "unmarried         141\n",
      "Name: insured_relationship, dtype: int64\n"
     ]
    },
    {
     "data": {
      "image/png": "[encoded data removed]",
      "text/plain": [
       "<Figure size 720x360 with 1 Axes>"
      ]
     },
     "metadata": {
      "needs_background": "light"
     },
     "output_type": "display_data"
    },
    {
     "name": "stdout",
     "output_type": "stream",
     "text": [
      "Multi-vehicle Collision     419\n",
      "Single Vehicle Collision    403\n",
      "Vehicle Theft                94\n",
      "Parked Car                   84\n",
      "Name: incident_type, dtype: int64\n"
     ]
    },
    {
     "data": {
      "image/png": "[encoded data removed]",
      "text/plain": [
       "<Figure size 720x360 with 1 Axes>"
      ]
     },
     "metadata": {
      "needs_background": "light"
     },
     "output_type": "display_data"
    },
    {
     "name": "stdout",
     "output_type": "stream",
     "text": [
      "Rear Collision     470\n",
      "Side Collision     276\n",
      "Front Collision    254\n",
      "Name: collision_type, dtype: int64\n"
     ]
    },
    {
     "data": {
      "image/png": "[encoded data removed]",
      "text/plain": [
       "<Figure size 720x360 with 1 Axes>"
      ]
     },
     "metadata": {
      "needs_background": "light"
     },
     "output_type": "display_data"
    },
    {
     "name": "stdout",
     "output_type": "stream",
     "text": [
      "Minor Damage      354\n",
      "Total Loss        280\n",
      "Major Damage      276\n",
      "Trivial Damage     90\n",
      "Name: incident_severity, dtype: int64\n"
     ]
    },
    {
     "data": {
      "image/png": "[encoded data removed]",
      "text/plain": [
       "<Figure size 720x360 with 1 Axes>"
      ]
     },
     "metadata": {
      "needs_background": "light"
     },
     "output_type": "display_data"
    },
    {
     "name": "stdout",
     "output_type": "stream",
     "text": [
      "Police       292\n",
      "Fire         223\n",
      "Other        198\n",
      "Ambulance    196\n",
      "None          91\n",
      "Name: authorities_contacted, dtype: int64\n"
     ]
    },
    {
     "data": {
      "image/png": "[encoded data removed]",
      "text/plain": [
       "<Figure size 720x360 with 1 Axes>"
      ]
     },
     "metadata": {
      "needs_background": "light"
     },
     "output_type": "display_data"
    },
    {
     "name": "stdout",
     "output_type": "stream",
     "text": [
      "NY    262\n",
      "SC    248\n",
      "WV    217\n",
      "VA    110\n",
      "NC    110\n",
      "PA     30\n",
      "OH     23\n",
      "Name: incident_state, dtype: int64\n"
     ]
    },
    {
     "data": {
      "image/png": "[encoded data removed]",
      "text/plain": [
       "<Figure size 720x360 with 1 Axes>"
      ]
     },
     "metadata": {
      "needs_background": "light"
     },
     "output_type": "display_data"
    },
    {
     "name": "stdout",
     "output_type": "stream",
     "text": [
      "Springfield    157\n",
      "Arlington      152\n",
      "Columbus       149\n",
      "Northbend      145\n",
      "Hillsdale      141\n",
      "Riverwood      134\n",
      "Northbrook     122\n",
      "Name: incident_city, dtype: int64\n"
     ]
    },
    {
     "data": {
      "image/png": "[encoded data removed]",
      "text/plain": [
       "<Figure size 720x360 with 1 Axes>"
      ]
     },
     "metadata": {
      "needs_background": "light"
     },
     "output_type": "display_data"
    },
    {
     "name": "stdout",
     "output_type": "stream",
     "text": [
      "NO     698\n",
      "YES    302\n",
      "Name: property_damage, dtype: int64\n"
     ]
    },
    {
     "data": {
      "image/png": "[encoded data removed]",
      "text/plain": [
       "<Figure size 720x360 with 1 Axes>"
      ]
     },
     "metadata": {
      "needs_background": "light"
     },
     "output_type": "display_data"
    },
    {
     "name": "stdout",
     "output_type": "stream",
     "text": [
      "NO     686\n",
      "YES    314\n",
      "Name: police_report_available, dtype: int64\n"
     ]
    },
    {
     "data": {
      "image/png": "[encoded data removed]",
      "text/plain": [
       "<Figure size 720x360 with 1 Axes>"
      ]
     },
     "metadata": {
      "needs_background": "light"
     },
     "output_type": "display_data"
    },
    {
     "name": "stdout",
     "output_type": "stream",
     "text": [
      "Saab          80\n",
      "Dodge         80\n",
      "Suburu        80\n",
      "Nissan        78\n",
      "Chevrolet     76\n",
      "Ford          72\n",
      "BMW           72\n",
      "Toyota        70\n",
      "Audi          69\n",
      "Accura        68\n",
      "Volkswagen    68\n",
      "Jeep          67\n",
      "Mercedes      65\n",
      "Honda         55\n",
      "Name: auto_make, dtype: int64\n"
     ]
    },
    {
     "data": {
      "image/png": "[encoded data removed]",
      "text/plain": [
       "<Figure size 720x360 with 1 Axes>"
      ]
     },
     "metadata": {
      "needs_background": "light"
     },
     "output_type": "display_data"
    },
    {
     "name": "stdout",
     "output_type": "stream",
     "text": [
      "N    753\n",
      "Y    247\n",
      "Name: fraud_reported, dtype: int64\n"
     ]
    },
    {
     "data": {
      "image/png": "[encoded data removed]",
      "text/plain": [
       "<Figure size 720x360 with 1 Axes>"
      ]
     },
     "metadata": {
      "needs_background": "light"
     },
     "output_type": "display_data"
    }
   ],
   "source": [
    "cat=[]\n",
    "for i in df.columns:\n",
    "    if df[i].dtypes == 'object':\n",
    "        cat.append(i)\n",
    "for i in cat:\n",
    "    plt.figure(figsize=(10,5))\n",
    "    sns.countplot(x=i, hue='fraud_reported', data=df)\n",
    "    print(df[i].value_counts())\n",
    "    plt.show()"
   ]
  },
  {
   "cell_type": "code",
   "execution_count": 17,
   "id": "74dea39a",
   "metadata": {},
   "outputs": [
    {
     "data": {
      "text/html": [
       "<div>\n",
       "<style scoped>\n",
       "    .dataframe tbody tr th:only-of-type {\n",
       "        vertical-align: middle;\n",
       "    }\n",
       "\n",
       "    .dataframe tbody tr th {\n",
       "        vertical-align: top;\n",
       "    }\n",
       "\n",
       "    .dataframe thead th {\n",
       "        text-align: right;\n",
       "    }\n",
       "</style>\n",
       "<table border=\"1\" class=\"dataframe\">\n",
       "  <thead>\n",
       "    <tr style=\"text-align: right;\">\n",
       "      <th></th>\n",
       "      <th>months_as_customer</th>\n",
       "      <th>age</th>\n",
       "      <th>policy_state</th>\n",
       "      <th>policy_csl</th>\n",
       "      <th>policy_deductable</th>\n",
       "      <th>policy_annual_premium</th>\n",
       "      <th>umbrella_limit</th>\n",
       "      <th>insured_zip</th>\n",
       "      <th>insured_sex</th>\n",
       "      <th>insured_education_level</th>\n",
       "      <th>...</th>\n",
       "      <th>bodily_injuries</th>\n",
       "      <th>witnesses</th>\n",
       "      <th>police_report_available</th>\n",
       "      <th>total_claim_amount</th>\n",
       "      <th>injury_claim</th>\n",
       "      <th>property_claim</th>\n",
       "      <th>vehicle_claim</th>\n",
       "      <th>auto_make</th>\n",
       "      <th>auto_year</th>\n",
       "      <th>fraud_reported</th>\n",
       "    </tr>\n",
       "  </thead>\n",
       "  <tbody>\n",
       "    <tr>\n",
       "      <th>0</th>\n",
       "      <td>328</td>\n",
       "      <td>48</td>\n",
       "      <td>OH</td>\n",
       "      <td>250/500</td>\n",
       "      <td>1000</td>\n",
       "      <td>1406.91</td>\n",
       "      <td>0</td>\n",
       "      <td>466132</td>\n",
       "      <td>MALE</td>\n",
       "      <td>MD</td>\n",
       "      <td>...</td>\n",
       "      <td>1</td>\n",
       "      <td>2</td>\n",
       "      <td>YES</td>\n",
       "      <td>71610</td>\n",
       "      <td>6510</td>\n",
       "      <td>13020</td>\n",
       "      <td>52080</td>\n",
       "      <td>Saab</td>\n",
       "      <td>2004</td>\n",
       "      <td>1.0</td>\n",
       "    </tr>\n",
       "    <tr>\n",
       "      <th>1</th>\n",
       "      <td>228</td>\n",
       "      <td>42</td>\n",
       "      <td>IN</td>\n",
       "      <td>250/500</td>\n",
       "      <td>2000</td>\n",
       "      <td>1197.22</td>\n",
       "      <td>5000000</td>\n",
       "      <td>468176</td>\n",
       "      <td>MALE</td>\n",
       "      <td>MD</td>\n",
       "      <td>...</td>\n",
       "      <td>0</td>\n",
       "      <td>0</td>\n",
       "      <td>NO</td>\n",
       "      <td>5070</td>\n",
       "      <td>780</td>\n",
       "      <td>780</td>\n",
       "      <td>3510</td>\n",
       "      <td>Mercedes</td>\n",
       "      <td>2007</td>\n",
       "      <td>1.0</td>\n",
       "    </tr>\n",
       "    <tr>\n",
       "      <th>2</th>\n",
       "      <td>134</td>\n",
       "      <td>29</td>\n",
       "      <td>OH</td>\n",
       "      <td>100/300</td>\n",
       "      <td>2000</td>\n",
       "      <td>1413.14</td>\n",
       "      <td>5000000</td>\n",
       "      <td>430632</td>\n",
       "      <td>FEMALE</td>\n",
       "      <td>PhD</td>\n",
       "      <td>...</td>\n",
       "      <td>2</td>\n",
       "      <td>3</td>\n",
       "      <td>NO</td>\n",
       "      <td>34650</td>\n",
       "      <td>7700</td>\n",
       "      <td>3850</td>\n",
       "      <td>23100</td>\n",
       "      <td>Dodge</td>\n",
       "      <td>2007</td>\n",
       "      <td>0.0</td>\n",
       "    </tr>\n",
       "    <tr>\n",
       "      <th>3</th>\n",
       "      <td>256</td>\n",
       "      <td>41</td>\n",
       "      <td>IL</td>\n",
       "      <td>250/500</td>\n",
       "      <td>2000</td>\n",
       "      <td>1415.74</td>\n",
       "      <td>6000000</td>\n",
       "      <td>608117</td>\n",
       "      <td>FEMALE</td>\n",
       "      <td>PhD</td>\n",
       "      <td>...</td>\n",
       "      <td>1</td>\n",
       "      <td>2</td>\n",
       "      <td>NO</td>\n",
       "      <td>63400</td>\n",
       "      <td>6340</td>\n",
       "      <td>6340</td>\n",
       "      <td>50720</td>\n",
       "      <td>Chevrolet</td>\n",
       "      <td>2014</td>\n",
       "      <td>1.0</td>\n",
       "    </tr>\n",
       "    <tr>\n",
       "      <th>4</th>\n",
       "      <td>228</td>\n",
       "      <td>44</td>\n",
       "      <td>IL</td>\n",
       "      <td>500/1000</td>\n",
       "      <td>1000</td>\n",
       "      <td>1583.91</td>\n",
       "      <td>6000000</td>\n",
       "      <td>610706</td>\n",
       "      <td>MALE</td>\n",
       "      <td>Associate</td>\n",
       "      <td>...</td>\n",
       "      <td>0</td>\n",
       "      <td>1</td>\n",
       "      <td>NO</td>\n",
       "      <td>6500</td>\n",
       "      <td>1300</td>\n",
       "      <td>650</td>\n",
       "      <td>4550</td>\n",
       "      <td>Accura</td>\n",
       "      <td>2009</td>\n",
       "      <td>0.0</td>\n",
       "    </tr>\n",
       "    <tr>\n",
       "      <th>...</th>\n",
       "      <td>...</td>\n",
       "      <td>...</td>\n",
       "      <td>...</td>\n",
       "      <td>...</td>\n",
       "      <td>...</td>\n",
       "      <td>...</td>\n",
       "      <td>...</td>\n",
       "      <td>...</td>\n",
       "      <td>...</td>\n",
       "      <td>...</td>\n",
       "      <td>...</td>\n",
       "      <td>...</td>\n",
       "      <td>...</td>\n",
       "      <td>...</td>\n",
       "      <td>...</td>\n",
       "      <td>...</td>\n",
       "      <td>...</td>\n",
       "      <td>...</td>\n",
       "      <td>...</td>\n",
       "      <td>...</td>\n",
       "      <td>...</td>\n",
       "    </tr>\n",
       "    <tr>\n",
       "      <th>995</th>\n",
       "      <td>3</td>\n",
       "      <td>38</td>\n",
       "      <td>OH</td>\n",
       "      <td>500/1000</td>\n",
       "      <td>1000</td>\n",
       "      <td>1310.80</td>\n",
       "      <td>0</td>\n",
       "      <td>431289</td>\n",
       "      <td>FEMALE</td>\n",
       "      <td>Masters</td>\n",
       "      <td>...</td>\n",
       "      <td>0</td>\n",
       "      <td>1</td>\n",
       "      <td>NO</td>\n",
       "      <td>87200</td>\n",
       "      <td>17440</td>\n",
       "      <td>8720</td>\n",
       "      <td>61040</td>\n",
       "      <td>Honda</td>\n",
       "      <td>2006</td>\n",
       "      <td>0.0</td>\n",
       "    </tr>\n",
       "    <tr>\n",
       "      <th>996</th>\n",
       "      <td>285</td>\n",
       "      <td>41</td>\n",
       "      <td>IL</td>\n",
       "      <td>100/300</td>\n",
       "      <td>1000</td>\n",
       "      <td>1436.79</td>\n",
       "      <td>0</td>\n",
       "      <td>608177</td>\n",
       "      <td>FEMALE</td>\n",
       "      <td>PhD</td>\n",
       "      <td>...</td>\n",
       "      <td>2</td>\n",
       "      <td>3</td>\n",
       "      <td>NO</td>\n",
       "      <td>108480</td>\n",
       "      <td>18080</td>\n",
       "      <td>18080</td>\n",
       "      <td>72320</td>\n",
       "      <td>Volkswagen</td>\n",
       "      <td>2015</td>\n",
       "      <td>0.0</td>\n",
       "    </tr>\n",
       "    <tr>\n",
       "      <th>997</th>\n",
       "      <td>130</td>\n",
       "      <td>34</td>\n",
       "      <td>OH</td>\n",
       "      <td>250/500</td>\n",
       "      <td>500</td>\n",
       "      <td>1383.49</td>\n",
       "      <td>3000000</td>\n",
       "      <td>442797</td>\n",
       "      <td>FEMALE</td>\n",
       "      <td>Masters</td>\n",
       "      <td>...</td>\n",
       "      <td>2</td>\n",
       "      <td>3</td>\n",
       "      <td>YES</td>\n",
       "      <td>67500</td>\n",
       "      <td>7500</td>\n",
       "      <td>7500</td>\n",
       "      <td>52500</td>\n",
       "      <td>Suburu</td>\n",
       "      <td>1996</td>\n",
       "      <td>0.0</td>\n",
       "    </tr>\n",
       "    <tr>\n",
       "      <th>998</th>\n",
       "      <td>458</td>\n",
       "      <td>62</td>\n",
       "      <td>IL</td>\n",
       "      <td>500/1000</td>\n",
       "      <td>2000</td>\n",
       "      <td>1356.92</td>\n",
       "      <td>5000000</td>\n",
       "      <td>441714</td>\n",
       "      <td>MALE</td>\n",
       "      <td>Associate</td>\n",
       "      <td>...</td>\n",
       "      <td>0</td>\n",
       "      <td>1</td>\n",
       "      <td>YES</td>\n",
       "      <td>46980</td>\n",
       "      <td>5220</td>\n",
       "      <td>5220</td>\n",
       "      <td>36540</td>\n",
       "      <td>Audi</td>\n",
       "      <td>1998</td>\n",
       "      <td>0.0</td>\n",
       "    </tr>\n",
       "    <tr>\n",
       "      <th>999</th>\n",
       "      <td>456</td>\n",
       "      <td>60</td>\n",
       "      <td>OH</td>\n",
       "      <td>250/500</td>\n",
       "      <td>1000</td>\n",
       "      <td>766.19</td>\n",
       "      <td>0</td>\n",
       "      <td>612260</td>\n",
       "      <td>FEMALE</td>\n",
       "      <td>Associate</td>\n",
       "      <td>...</td>\n",
       "      <td>0</td>\n",
       "      <td>3</td>\n",
       "      <td>NO</td>\n",
       "      <td>5060</td>\n",
       "      <td>460</td>\n",
       "      <td>920</td>\n",
       "      <td>3680</td>\n",
       "      <td>Mercedes</td>\n",
       "      <td>2007</td>\n",
       "      <td>0.0</td>\n",
       "    </tr>\n",
       "  </tbody>\n",
       "</table>\n",
       "<p>1000 rows × 33 columns</p>\n",
       "</div>"
      ],
      "text/plain": [
       "     months_as_customer  age policy_state policy_csl  policy_deductable  \\\n",
       "0                   328   48           OH    250/500               1000   \n",
       "1                   228   42           IN    250/500               2000   \n",
       "2                   134   29           OH    100/300               2000   \n",
       "3                   256   41           IL    250/500               2000   \n",
       "4                   228   44           IL   500/1000               1000   \n",
       "..                  ...  ...          ...        ...                ...   \n",
       "995                   3   38           OH   500/1000               1000   \n",
       "996                 285   41           IL    100/300               1000   \n",
       "997                 130   34           OH    250/500                500   \n",
       "998                 458   62           IL   500/1000               2000   \n",
       "999                 456   60           OH    250/500               1000   \n",
       "\n",
       "     policy_annual_premium  umbrella_limit  insured_zip insured_sex  \\\n",
       "0                  1406.91               0       466132        MALE   \n",
       "1                  1197.22         5000000       468176        MALE   \n",
       "2                  1413.14         5000000       430632      FEMALE   \n",
       "3                  1415.74         6000000       608117      FEMALE   \n",
       "4                  1583.91         6000000       610706        MALE   \n",
       "..                     ...             ...          ...         ...   \n",
       "995                1310.80               0       431289      FEMALE   \n",
       "996                1436.79               0       608177      FEMALE   \n",
       "997                1383.49         3000000       442797      FEMALE   \n",
       "998                1356.92         5000000       441714        MALE   \n",
       "999                 766.19               0       612260      FEMALE   \n",
       "\n",
       "    insured_education_level  ... bodily_injuries witnesses  \\\n",
       "0                        MD  ...               1         2   \n",
       "1                        MD  ...               0         0   \n",
       "2                       PhD  ...               2         3   \n",
       "3                       PhD  ...               1         2   \n",
       "4                 Associate  ...               0         1   \n",
       "..                      ...  ...             ...       ...   \n",
       "995                 Masters  ...               0         1   \n",
       "996                     PhD  ...               2         3   \n",
       "997                 Masters  ...               2         3   \n",
       "998               Associate  ...               0         1   \n",
       "999               Associate  ...               0         3   \n",
       "\n",
       "    police_report_available  total_claim_amount  injury_claim property_claim  \\\n",
       "0                       YES               71610          6510          13020   \n",
       "1                        NO                5070           780            780   \n",
       "2                        NO               34650          7700           3850   \n",
       "3                        NO               63400          6340           6340   \n",
       "4                        NO                6500          1300            650   \n",
       "..                      ...                 ...           ...            ...   \n",
       "995                      NO               87200         17440           8720   \n",
       "996                      NO              108480         18080          18080   \n",
       "997                     YES               67500          7500           7500   \n",
       "998                     YES               46980          5220           5220   \n",
       "999                      NO                5060           460            920   \n",
       "\n",
       "    vehicle_claim   auto_make auto_year fraud_reported  \n",
       "0           52080        Saab      2004            1.0  \n",
       "1            3510    Mercedes      2007            1.0  \n",
       "2           23100       Dodge      2007            0.0  \n",
       "3           50720   Chevrolet      2014            1.0  \n",
       "4            4550      Accura      2009            0.0  \n",
       "..            ...         ...       ...            ...  \n",
       "995         61040       Honda      2006            0.0  \n",
       "996         72320  Volkswagen      2015            0.0  \n",
       "997         52500      Suburu      1996            0.0  \n",
       "998         36540        Audi      1998            0.0  \n",
       "999          3680    Mercedes      2007            0.0  \n",
       "\n",
       "[1000 rows x 33 columns]"
      ]
     },
     "execution_count": 17,
     "metadata": {},
     "output_type": "execute_result"
    }
   ],
   "source": [
    "# Let us now encode just the output column to do further visualisation.\n",
    "from sklearn.preprocessing import OrdinalEncoder\n",
    "enc=OrdinalEncoder()\n",
    "df['fraud_reported']=enc.fit_transform(df['fraud_reported'].values.reshape(-1,1))\n",
    "df"
   ]
  },
  {
   "cell_type": "code",
   "execution_count": 18,
   "id": "116e86ad",
   "metadata": {},
   "outputs": [
    {
     "data": {
      "text/plain": [
       "<seaborn.axisgrid.FacetGrid at 0x2865ccee400>"
      ]
     },
     "execution_count": 18,
     "metadata": {},
     "output_type": "execute_result"
    },
    {
     "data": {
      "text/plain": [
       "<Figure size 720x360 with 0 Axes>"
      ]
     },
     "metadata": {},
     "output_type": "display_data"
    },
    {
     "data": {
      "image/png": "[encoded data removed]",
      "text/plain": [
       "<Figure size 1231.12x360 with 3 Axes>"
      ]
     },
     "metadata": {
      "needs_background": "light"
     },
     "output_type": "display_data"
    }
   ],
   "source": [
    "plt.figure(figsize=(10,5))\n",
    "sns.catplot(x='insured_sex',y='fraud_reported',kind='bar',data=df,col='collision_type',hue='incident_type')"
   ]
  },
  {
   "cell_type": "markdown",
   "id": "2155d755",
   "metadata": {},
   "source": [
    "For side collision, we have more males reporting for fraud however moving to others females are more tentative to take fraud claim for rear and Front collision."
   ]
  },
  {
   "cell_type": "code",
   "execution_count": 19,
   "id": "a6e82e14",
   "metadata": {},
   "outputs": [
    {
     "data": {
      "text/plain": [
       "<AxesSubplot:xlabel='months_as_customer', ylabel='insured_sex'>"
      ]
     },
     "execution_count": 19,
     "metadata": {},
     "output_type": "execute_result"
    },
    {
     "data": {
      "image/png": "[encoded data removed]",
      "text/plain": [
       "<Figure size 720x360 with 1 Axes>"
      ]
     },
     "metadata": {
      "needs_background": "light"
     },
     "output_type": "display_data"
    }
   ],
   "source": [
    "plt.figure(figsize=(10,5))\n",
    "sns.scatterplot(x='months_as_customer', y='insured_sex',data=df, hue='fraud_reported')"
   ]
  },
  {
   "cell_type": "code",
   "execution_count": 20,
   "id": "d3acc017",
   "metadata": {},
   "outputs": [
    {
     "data": {
      "text/plain": [
       "<AxesSubplot:xlabel='insured_education_level', ylabel='insured_relationship'>"
      ]
     },
     "execution_count": 20,
     "metadata": {},
     "output_type": "execute_result"
    },
    {
     "data": {
      "image/png": "[encoded data removed]",
      "text/plain": [
       "<Figure size 720x360 with 1 Axes>"
      ]
     },
     "metadata": {
      "needs_background": "light"
     },
     "output_type": "display_data"
    }
   ],
   "source": [
    "plt.figure(figsize=(10,5))\n",
    "sns.scatterplot(x='insured_education_level', y='insured_relationship',data=df, hue='fraud_reported')"
   ]
  },
  {
   "cell_type": "markdown",
   "id": "4b33b126",
   "metadata": {},
   "source": [
    "Basically we can take an intution that people making more claim are dependant to other relative."
   ]
  },
  {
   "cell_type": "code",
   "execution_count": 21,
   "id": "7a9ab048",
   "metadata": {},
   "outputs": [
    {
     "name": "stdout",
     "output_type": "stream",
     "text": [
      "1    581\n",
      "3    358\n",
      "4     31\n",
      "2     30\n",
      "Name: number_of_vehicles_involved, dtype: int64\n"
     ]
    },
    {
     "data": {
      "image/png": "[encoded data removed]",
      "text/plain": [
       "<Figure size 720x360 with 1 Axes>"
      ]
     },
     "metadata": {
      "needs_background": "light"
     },
     "output_type": "display_data"
    }
   ],
   "source": [
    "plt.figure(figsize=(10,5))\n",
    "sns.countplot(x='number_of_vehicles_involved', hue='fraud_reported', data=df)\n",
    "print(df['number_of_vehicles_involved'].value_counts())"
   ]
  },
  {
   "cell_type": "code",
   "execution_count": 22,
   "id": "baed96d3",
   "metadata": {},
   "outputs": [
    {
     "name": "stdout",
     "output_type": "stream",
     "text": [
      "1    258\n",
      "2    250\n",
      "0    249\n",
      "3    243\n",
      "Name: witnesses, dtype: int64\n"
     ]
    },
    {
     "data": {
      "image/png": "[encoded data removed]",
      "text/plain": [
       "<Figure size 720x360 with 1 Axes>"
      ]
     },
     "metadata": {
      "needs_background": "light"
     },
     "output_type": "display_data"
    }
   ],
   "source": [
    "plt.figure(figsize=(10,5))\n",
    "sns.countplot(x='witnesses', hue='fraud_reported', data=df)\n",
    "print(df['witnesses'].value_counts())"
   ]
  },
  {
   "cell_type": "code",
   "execution_count": 23,
   "id": "5aed62dd",
   "metadata": {},
   "outputs": [
    {
     "name": "stdout",
     "output_type": "stream",
     "text": [
      "1995    56\n",
      "1999    55\n",
      "2005    54\n",
      "2006    53\n",
      "2011    53\n",
      "2007    52\n",
      "2003    51\n",
      "2009    50\n",
      "2010    50\n",
      "2013    49\n",
      "2002    49\n",
      "2015    47\n",
      "1997    46\n",
      "2012    46\n",
      "2008    45\n",
      "2014    44\n",
      "2001    42\n",
      "2000    42\n",
      "1998    40\n",
      "2004    39\n",
      "1996    37\n",
      "Name: auto_year, dtype: int64\n"
     ]
    },
    {
     "data": {
      "image/png": "[encoded data removed]",
      "text/plain": [
       "<Figure size 720x360 with 1 Axes>"
      ]
     },
     "metadata": {
      "needs_background": "light"
     },
     "output_type": "display_data"
    }
   ],
   "source": [
    "plt.figure(figsize=(10,5))\n",
    "sns.countplot(x='auto_year', hue='fraud_reported', data=df)\n",
    "print(df['auto_year'].value_counts())"
   ]
  },
  {
   "cell_type": "code",
   "execution_count": 24,
   "id": "0480442b",
   "metadata": {},
   "outputs": [
    {
     "name": "stdout",
     "output_type": "stream",
     "text": [
      "NY    262\n",
      "SC    248\n",
      "WV    217\n",
      "VA    110\n",
      "NC    110\n",
      "PA     30\n",
      "OH     23\n",
      "Name: incident_state, dtype: int64\n"
     ]
    },
    {
     "data": {
      "image/png": "[encoded data removed]",
      "text/plain": [
       "<Figure size 720x360 with 1 Axes>"
      ]
     },
     "metadata": {
      "needs_background": "light"
     },
     "output_type": "display_data"
    }
   ],
   "source": [
    "plt.figure(figsize=(10,5))\n",
    "sns.countplot(x='incident_state', hue='fraud_reported', data=df)\n",
    "print(df['incident_state'].value_counts())"
   ]
  },
  {
   "cell_type": "code",
   "execution_count": 25,
   "id": "0024c548",
   "metadata": {},
   "outputs": [
    {
     "name": "stdout",
     "output_type": "stream",
     "text": [
      "Springfield    157\n",
      "Arlington      152\n",
      "Columbus       149\n",
      "Northbend      145\n",
      "Hillsdale      141\n",
      "Riverwood      134\n",
      "Northbrook     122\n",
      "Name: incident_city, dtype: int64\n"
     ]
    },
    {
     "data": {
      "image/png": "[encoded data removed]",
      "text/plain": [
       "<Figure size 720x360 with 1 Axes>"
      ]
     },
     "metadata": {
      "needs_background": "light"
     },
     "output_type": "display_data"
    }
   ],
   "source": [
    "plt.figure(figsize=(10,5))\n",
    "sns.countplot(x='incident_city', hue='fraud_reported', data=df)\n",
    "print(df['incident_city'].value_counts())"
   ]
  },
  {
   "cell_type": "markdown",
   "id": "37f09942",
   "metadata": {},
   "source": [
    "In all the cities there are almost same number of fraud claims."
   ]
  },
  {
   "cell_type": "code",
   "execution_count": 26,
   "id": "2c545da6",
   "metadata": {},
   "outputs": [
    {
     "data": {
      "text/plain": [
       "<AxesSubplot:>"
      ]
     },
     "execution_count": 26,
     "metadata": {},
     "output_type": "execute_result"
    },
    {
     "data": {
      "image/png": "[encoded data removed]",
      "text/plain": [
       "<Figure size 1440x720 with 2 Axes>"
      ]
     },
     "metadata": {
      "needs_background": "light"
     },
     "output_type": "display_data"
    }
   ],
   "source": [
    "plt.figure(figsize=(20,10))\n",
    "sns.heatmap(df.corr(), annot=True)"
   ]
  },
  {
   "cell_type": "markdown",
   "id": "91765b87",
   "metadata": {},
   "source": [
    "We will remove the other 3 columns and only keep total_claim_amount as it captures the information and removes collinearity."
   ]
  },
  {
   "cell_type": "code",
   "execution_count": 27,
   "id": "acd312e8",
   "metadata": {},
   "outputs": [
    {
     "name": "stdout",
     "output_type": "stream",
     "text": [
      "5070\n",
      "5070\n"
     ]
    }
   ],
   "source": [
    "t = df['total_claim_amount'].iloc[1]\n",
    "a = df['vehicle_claim'].iloc[1]\n",
    "b = df['property_claim'].iloc[1]\n",
    "c = df['injury_claim'].iloc[1]\n",
    "print(t)\n",
    "print(a+b+c)"
   ]
  },
  {
   "cell_type": "markdown",
   "id": "fb9343d6",
   "metadata": {},
   "source": [
    "Hence we know that both the columns are the same, we will remove these three columns."
   ]
  },
  {
   "cell_type": "code",
   "execution_count": 28,
   "id": "407505ea",
   "metadata": {},
   "outputs": [
    {
     "data": {
      "text/html": [
       "<div>\n",
       "<style scoped>\n",
       "    .dataframe tbody tr th:only-of-type {\n",
       "        vertical-align: middle;\n",
       "    }\n",
       "\n",
       "    .dataframe tbody tr th {\n",
       "        vertical-align: top;\n",
       "    }\n",
       "\n",
       "    .dataframe thead th {\n",
       "        text-align: right;\n",
       "    }\n",
       "</style>\n",
       "<table border=\"1\" class=\"dataframe\">\n",
       "  <thead>\n",
       "    <tr style=\"text-align: right;\">\n",
       "      <th></th>\n",
       "      <th>months_as_customer</th>\n",
       "      <th>age</th>\n",
       "      <th>policy_state</th>\n",
       "      <th>policy_csl</th>\n",
       "      <th>policy_deductable</th>\n",
       "      <th>policy_annual_premium</th>\n",
       "      <th>umbrella_limit</th>\n",
       "      <th>insured_zip</th>\n",
       "      <th>insured_sex</th>\n",
       "      <th>insured_education_level</th>\n",
       "      <th>...</th>\n",
       "      <th>incident_city</th>\n",
       "      <th>number_of_vehicles_involved</th>\n",
       "      <th>property_damage</th>\n",
       "      <th>bodily_injuries</th>\n",
       "      <th>witnesses</th>\n",
       "      <th>police_report_available</th>\n",
       "      <th>total_claim_amount</th>\n",
       "      <th>auto_make</th>\n",
       "      <th>auto_year</th>\n",
       "      <th>fraud_reported</th>\n",
       "    </tr>\n",
       "  </thead>\n",
       "  <tbody>\n",
       "    <tr>\n",
       "      <th>0</th>\n",
       "      <td>328</td>\n",
       "      <td>48</td>\n",
       "      <td>OH</td>\n",
       "      <td>250/500</td>\n",
       "      <td>1000</td>\n",
       "      <td>1406.91</td>\n",
       "      <td>0</td>\n",
       "      <td>466132</td>\n",
       "      <td>MALE</td>\n",
       "      <td>MD</td>\n",
       "      <td>...</td>\n",
       "      <td>Columbus</td>\n",
       "      <td>1</td>\n",
       "      <td>YES</td>\n",
       "      <td>1</td>\n",
       "      <td>2</td>\n",
       "      <td>YES</td>\n",
       "      <td>71610</td>\n",
       "      <td>Saab</td>\n",
       "      <td>2004</td>\n",
       "      <td>1.0</td>\n",
       "    </tr>\n",
       "    <tr>\n",
       "      <th>1</th>\n",
       "      <td>228</td>\n",
       "      <td>42</td>\n",
       "      <td>IN</td>\n",
       "      <td>250/500</td>\n",
       "      <td>2000</td>\n",
       "      <td>1197.22</td>\n",
       "      <td>5000000</td>\n",
       "      <td>468176</td>\n",
       "      <td>MALE</td>\n",
       "      <td>MD</td>\n",
       "      <td>...</td>\n",
       "      <td>Riverwood</td>\n",
       "      <td>1</td>\n",
       "      <td>NO</td>\n",
       "      <td>0</td>\n",
       "      <td>0</td>\n",
       "      <td>NO</td>\n",
       "      <td>5070</td>\n",
       "      <td>Mercedes</td>\n",
       "      <td>2007</td>\n",
       "      <td>1.0</td>\n",
       "    </tr>\n",
       "    <tr>\n",
       "      <th>2</th>\n",
       "      <td>134</td>\n",
       "      <td>29</td>\n",
       "      <td>OH</td>\n",
       "      <td>100/300</td>\n",
       "      <td>2000</td>\n",
       "      <td>1413.14</td>\n",
       "      <td>5000000</td>\n",
       "      <td>430632</td>\n",
       "      <td>FEMALE</td>\n",
       "      <td>PhD</td>\n",
       "      <td>...</td>\n",
       "      <td>Columbus</td>\n",
       "      <td>3</td>\n",
       "      <td>NO</td>\n",
       "      <td>2</td>\n",
       "      <td>3</td>\n",
       "      <td>NO</td>\n",
       "      <td>34650</td>\n",
       "      <td>Dodge</td>\n",
       "      <td>2007</td>\n",
       "      <td>0.0</td>\n",
       "    </tr>\n",
       "    <tr>\n",
       "      <th>3</th>\n",
       "      <td>256</td>\n",
       "      <td>41</td>\n",
       "      <td>IL</td>\n",
       "      <td>250/500</td>\n",
       "      <td>2000</td>\n",
       "      <td>1415.74</td>\n",
       "      <td>6000000</td>\n",
       "      <td>608117</td>\n",
       "      <td>FEMALE</td>\n",
       "      <td>PhD</td>\n",
       "      <td>...</td>\n",
       "      <td>Arlington</td>\n",
       "      <td>1</td>\n",
       "      <td>NO</td>\n",
       "      <td>1</td>\n",
       "      <td>2</td>\n",
       "      <td>NO</td>\n",
       "      <td>63400</td>\n",
       "      <td>Chevrolet</td>\n",
       "      <td>2014</td>\n",
       "      <td>1.0</td>\n",
       "    </tr>\n",
       "    <tr>\n",
       "      <th>4</th>\n",
       "      <td>228</td>\n",
       "      <td>44</td>\n",
       "      <td>IL</td>\n",
       "      <td>500/1000</td>\n",
       "      <td>1000</td>\n",
       "      <td>1583.91</td>\n",
       "      <td>6000000</td>\n",
       "      <td>610706</td>\n",
       "      <td>MALE</td>\n",
       "      <td>Associate</td>\n",
       "      <td>...</td>\n",
       "      <td>Arlington</td>\n",
       "      <td>1</td>\n",
       "      <td>NO</td>\n",
       "      <td>0</td>\n",
       "      <td>1</td>\n",
       "      <td>NO</td>\n",
       "      <td>6500</td>\n",
       "      <td>Accura</td>\n",
       "      <td>2009</td>\n",
       "      <td>0.0</td>\n",
       "    </tr>\n",
       "    <tr>\n",
       "      <th>...</th>\n",
       "      <td>...</td>\n",
       "      <td>...</td>\n",
       "      <td>...</td>\n",
       "      <td>...</td>\n",
       "      <td>...</td>\n",
       "      <td>...</td>\n",
       "      <td>...</td>\n",
       "      <td>...</td>\n",
       "      <td>...</td>\n",
       "      <td>...</td>\n",
       "      <td>...</td>\n",
       "      <td>...</td>\n",
       "      <td>...</td>\n",
       "      <td>...</td>\n",
       "      <td>...</td>\n",
       "      <td>...</td>\n",
       "      <td>...</td>\n",
       "      <td>...</td>\n",
       "      <td>...</td>\n",
       "      <td>...</td>\n",
       "      <td>...</td>\n",
       "    </tr>\n",
       "    <tr>\n",
       "      <th>995</th>\n",
       "      <td>3</td>\n",
       "      <td>38</td>\n",
       "      <td>OH</td>\n",
       "      <td>500/1000</td>\n",
       "      <td>1000</td>\n",
       "      <td>1310.80</td>\n",
       "      <td>0</td>\n",
       "      <td>431289</td>\n",
       "      <td>FEMALE</td>\n",
       "      <td>Masters</td>\n",
       "      <td>...</td>\n",
       "      <td>Northbrook</td>\n",
       "      <td>1</td>\n",
       "      <td>YES</td>\n",
       "      <td>0</td>\n",
       "      <td>1</td>\n",
       "      <td>NO</td>\n",
       "      <td>87200</td>\n",
       "      <td>Honda</td>\n",
       "      <td>2006</td>\n",
       "      <td>0.0</td>\n",
       "    </tr>\n",
       "    <tr>\n",
       "      <th>996</th>\n",
       "      <td>285</td>\n",
       "      <td>41</td>\n",
       "      <td>IL</td>\n",
       "      <td>100/300</td>\n",
       "      <td>1000</td>\n",
       "      <td>1436.79</td>\n",
       "      <td>0</td>\n",
       "      <td>608177</td>\n",
       "      <td>FEMALE</td>\n",
       "      <td>PhD</td>\n",
       "      <td>...</td>\n",
       "      <td>Northbend</td>\n",
       "      <td>1</td>\n",
       "      <td>YES</td>\n",
       "      <td>2</td>\n",
       "      <td>3</td>\n",
       "      <td>NO</td>\n",
       "      <td>108480</td>\n",
       "      <td>Volkswagen</td>\n",
       "      <td>2015</td>\n",
       "      <td>0.0</td>\n",
       "    </tr>\n",
       "    <tr>\n",
       "      <th>997</th>\n",
       "      <td>130</td>\n",
       "      <td>34</td>\n",
       "      <td>OH</td>\n",
       "      <td>250/500</td>\n",
       "      <td>500</td>\n",
       "      <td>1383.49</td>\n",
       "      <td>3000000</td>\n",
       "      <td>442797</td>\n",
       "      <td>FEMALE</td>\n",
       "      <td>Masters</td>\n",
       "      <td>...</td>\n",
       "      <td>Arlington</td>\n",
       "      <td>3</td>\n",
       "      <td>NO</td>\n",
       "      <td>2</td>\n",
       "      <td>3</td>\n",
       "      <td>YES</td>\n",
       "      <td>67500</td>\n",
       "      <td>Suburu</td>\n",
       "      <td>1996</td>\n",
       "      <td>0.0</td>\n",
       "    </tr>\n",
       "    <tr>\n",
       "      <th>998</th>\n",
       "      <td>458</td>\n",
       "      <td>62</td>\n",
       "      <td>IL</td>\n",
       "      <td>500/1000</td>\n",
       "      <td>2000</td>\n",
       "      <td>1356.92</td>\n",
       "      <td>5000000</td>\n",
       "      <td>441714</td>\n",
       "      <td>MALE</td>\n",
       "      <td>Associate</td>\n",
       "      <td>...</td>\n",
       "      <td>Arlington</td>\n",
       "      <td>1</td>\n",
       "      <td>NO</td>\n",
       "      <td>0</td>\n",
       "      <td>1</td>\n",
       "      <td>YES</td>\n",
       "      <td>46980</td>\n",
       "      <td>Audi</td>\n",
       "      <td>1998</td>\n",
       "      <td>0.0</td>\n",
       "    </tr>\n",
       "    <tr>\n",
       "      <th>999</th>\n",
       "      <td>456</td>\n",
       "      <td>60</td>\n",
       "      <td>OH</td>\n",
       "      <td>250/500</td>\n",
       "      <td>1000</td>\n",
       "      <td>766.19</td>\n",
       "      <td>0</td>\n",
       "      <td>612260</td>\n",
       "      <td>FEMALE</td>\n",
       "      <td>Associate</td>\n",
       "      <td>...</td>\n",
       "      <td>Columbus</td>\n",
       "      <td>1</td>\n",
       "      <td>NO</td>\n",
       "      <td>0</td>\n",
       "      <td>3</td>\n",
       "      <td>NO</td>\n",
       "      <td>5060</td>\n",
       "      <td>Mercedes</td>\n",
       "      <td>2007</td>\n",
       "      <td>0.0</td>\n",
       "    </tr>\n",
       "  </tbody>\n",
       "</table>\n",
       "<p>1000 rows × 30 columns</p>\n",
       "</div>"
      ],
      "text/plain": [
       "     months_as_customer  age policy_state policy_csl  policy_deductable  \\\n",
       "0                   328   48           OH    250/500               1000   \n",
       "1                   228   42           IN    250/500               2000   \n",
       "2                   134   29           OH    100/300               2000   \n",
       "3                   256   41           IL    250/500               2000   \n",
       "4                   228   44           IL   500/1000               1000   \n",
       "..                  ...  ...          ...        ...                ...   \n",
       "995                   3   38           OH   500/1000               1000   \n",
       "996                 285   41           IL    100/300               1000   \n",
       "997                 130   34           OH    250/500                500   \n",
       "998                 458   62           IL   500/1000               2000   \n",
       "999                 456   60           OH    250/500               1000   \n",
       "\n",
       "     policy_annual_premium  umbrella_limit  insured_zip insured_sex  \\\n",
       "0                  1406.91               0       466132        MALE   \n",
       "1                  1197.22         5000000       468176        MALE   \n",
       "2                  1413.14         5000000       430632      FEMALE   \n",
       "3                  1415.74         6000000       608117      FEMALE   \n",
       "4                  1583.91         6000000       610706        MALE   \n",
       "..                     ...             ...          ...         ...   \n",
       "995                1310.80               0       431289      FEMALE   \n",
       "996                1436.79               0       608177      FEMALE   \n",
       "997                1383.49         3000000       442797      FEMALE   \n",
       "998                1356.92         5000000       441714        MALE   \n",
       "999                 766.19               0       612260      FEMALE   \n",
       "\n",
       "    insured_education_level  ... incident_city number_of_vehicles_involved  \\\n",
       "0                        MD  ...      Columbus                           1   \n",
       "1                        MD  ...     Riverwood                           1   \n",
       "2                       PhD  ...      Columbus                           3   \n",
       "3                       PhD  ...     Arlington                           1   \n",
       "4                 Associate  ...     Arlington                           1   \n",
       "..                      ...  ...           ...                         ...   \n",
       "995                 Masters  ...    Northbrook                           1   \n",
       "996                     PhD  ...     Northbend                           1   \n",
       "997                 Masters  ...     Arlington                           3   \n",
       "998               Associate  ...     Arlington                           1   \n",
       "999               Associate  ...      Columbus                           1   \n",
       "\n",
       "    property_damage  bodily_injuries  witnesses police_report_available  \\\n",
       "0               YES                1          2                     YES   \n",
       "1                NO                0          0                      NO   \n",
       "2                NO                2          3                      NO   \n",
       "3                NO                1          2                      NO   \n",
       "4                NO                0          1                      NO   \n",
       "..              ...              ...        ...                     ...   \n",
       "995             YES                0          1                      NO   \n",
       "996             YES                2          3                      NO   \n",
       "997              NO                2          3                     YES   \n",
       "998              NO                0          1                     YES   \n",
       "999              NO                0          3                      NO   \n",
       "\n",
       "    total_claim_amount   auto_make auto_year fraud_reported  \n",
       "0                71610        Saab      2004            1.0  \n",
       "1                 5070    Mercedes      2007            1.0  \n",
       "2                34650       Dodge      2007            0.0  \n",
       "3                63400   Chevrolet      2014            1.0  \n",
       "4                 6500      Accura      2009            0.0  \n",
       "..                 ...         ...       ...            ...  \n",
       "995              87200       Honda      2006            0.0  \n",
       "996             108480  Volkswagen      2015            0.0  \n",
       "997              67500      Suburu      1996            0.0  \n",
       "998              46980        Audi      1998            0.0  \n",
       "999               5060    Mercedes      2007            0.0  \n",
       "\n",
       "[1000 rows x 30 columns]"
      ]
     },
     "execution_count": 28,
     "metadata": {},
     "output_type": "execute_result"
    }
   ],
   "source": [
    "df=df.drop(columns=['vehicle_claim','property_claim','injury_claim', ])\n",
    "df"
   ]
  },
  {
   "cell_type": "code",
   "execution_count": 29,
   "id": "eb39cb34",
   "metadata": {},
   "outputs": [
    {
     "data": {
      "text/html": [
       "<div>\n",
       "<style scoped>\n",
       "    .dataframe tbody tr th:only-of-type {\n",
       "        vertical-align: middle;\n",
       "    }\n",
       "\n",
       "    .dataframe tbody tr th {\n",
       "        vertical-align: top;\n",
       "    }\n",
       "\n",
       "    .dataframe thead th {\n",
       "        text-align: right;\n",
       "    }\n",
       "</style>\n",
       "<table border=\"1\" class=\"dataframe\">\n",
       "  <thead>\n",
       "    <tr style=\"text-align: right;\">\n",
       "      <th></th>\n",
       "      <th>months_as_customer</th>\n",
       "      <th>age</th>\n",
       "      <th>policy_deductable</th>\n",
       "      <th>policy_annual_premium</th>\n",
       "      <th>umbrella_limit</th>\n",
       "      <th>insured_zip</th>\n",
       "      <th>capital-gains</th>\n",
       "      <th>capital-loss</th>\n",
       "      <th>number_of_vehicles_involved</th>\n",
       "      <th>bodily_injuries</th>\n",
       "      <th>witnesses</th>\n",
       "      <th>total_claim_amount</th>\n",
       "      <th>auto_year</th>\n",
       "      <th>fraud_reported</th>\n",
       "    </tr>\n",
       "  </thead>\n",
       "  <tbody>\n",
       "    <tr>\n",
       "      <th>count</th>\n",
       "      <td>1000.000000</td>\n",
       "      <td>1000.000000</td>\n",
       "      <td>1000.000000</td>\n",
       "      <td>1000.000000</td>\n",
       "      <td>1.000000e+03</td>\n",
       "      <td>1000.000000</td>\n",
       "      <td>1000.000000</td>\n",
       "      <td>1000.000000</td>\n",
       "      <td>1000.00000</td>\n",
       "      <td>1000.000000</td>\n",
       "      <td>1000.000000</td>\n",
       "      <td>1000.00000</td>\n",
       "      <td>1000.000000</td>\n",
       "      <td>1000.000000</td>\n",
       "    </tr>\n",
       "    <tr>\n",
       "      <th>mean</th>\n",
       "      <td>203.954000</td>\n",
       "      <td>38.948000</td>\n",
       "      <td>1136.000000</td>\n",
       "      <td>1256.406150</td>\n",
       "      <td>1.101000e+06</td>\n",
       "      <td>501214.488000</td>\n",
       "      <td>25126.100000</td>\n",
       "      <td>-26793.700000</td>\n",
       "      <td>1.83900</td>\n",
       "      <td>0.992000</td>\n",
       "      <td>1.487000</td>\n",
       "      <td>52761.94000</td>\n",
       "      <td>2005.103000</td>\n",
       "      <td>0.247000</td>\n",
       "    </tr>\n",
       "    <tr>\n",
       "      <th>std</th>\n",
       "      <td>115.113174</td>\n",
       "      <td>9.140287</td>\n",
       "      <td>611.864673</td>\n",
       "      <td>244.167395</td>\n",
       "      <td>2.297407e+06</td>\n",
       "      <td>71701.610941</td>\n",
       "      <td>27872.187708</td>\n",
       "      <td>28104.096686</td>\n",
       "      <td>1.01888</td>\n",
       "      <td>0.820127</td>\n",
       "      <td>1.111335</td>\n",
       "      <td>26401.53319</td>\n",
       "      <td>6.015861</td>\n",
       "      <td>0.431483</td>\n",
       "    </tr>\n",
       "    <tr>\n",
       "      <th>min</th>\n",
       "      <td>0.000000</td>\n",
       "      <td>19.000000</td>\n",
       "      <td>500.000000</td>\n",
       "      <td>433.330000</td>\n",
       "      <td>-1.000000e+06</td>\n",
       "      <td>430104.000000</td>\n",
       "      <td>0.000000</td>\n",
       "      <td>-111100.000000</td>\n",
       "      <td>1.00000</td>\n",
       "      <td>0.000000</td>\n",
       "      <td>0.000000</td>\n",
       "      <td>100.00000</td>\n",
       "      <td>1995.000000</td>\n",
       "      <td>0.000000</td>\n",
       "    </tr>\n",
       "    <tr>\n",
       "      <th>25%</th>\n",
       "      <td>115.750000</td>\n",
       "      <td>32.000000</td>\n",
       "      <td>500.000000</td>\n",
       "      <td>1089.607500</td>\n",
       "      <td>0.000000e+00</td>\n",
       "      <td>448404.500000</td>\n",
       "      <td>0.000000</td>\n",
       "      <td>-51500.000000</td>\n",
       "      <td>1.00000</td>\n",
       "      <td>0.000000</td>\n",
       "      <td>1.000000</td>\n",
       "      <td>41812.50000</td>\n",
       "      <td>2000.000000</td>\n",
       "      <td>0.000000</td>\n",
       "    </tr>\n",
       "    <tr>\n",
       "      <th>50%</th>\n",
       "      <td>199.500000</td>\n",
       "      <td>38.000000</td>\n",
       "      <td>1000.000000</td>\n",
       "      <td>1257.200000</td>\n",
       "      <td>0.000000e+00</td>\n",
       "      <td>466445.500000</td>\n",
       "      <td>0.000000</td>\n",
       "      <td>-23250.000000</td>\n",
       "      <td>1.00000</td>\n",
       "      <td>1.000000</td>\n",
       "      <td>1.000000</td>\n",
       "      <td>58055.00000</td>\n",
       "      <td>2005.000000</td>\n",
       "      <td>0.000000</td>\n",
       "    </tr>\n",
       "    <tr>\n",
       "      <th>75%</th>\n",
       "      <td>276.250000</td>\n",
       "      <td>44.000000</td>\n",
       "      <td>2000.000000</td>\n",
       "      <td>1415.695000</td>\n",
       "      <td>0.000000e+00</td>\n",
       "      <td>603251.000000</td>\n",
       "      <td>51025.000000</td>\n",
       "      <td>0.000000</td>\n",
       "      <td>3.00000</td>\n",
       "      <td>2.000000</td>\n",
       "      <td>2.000000</td>\n",
       "      <td>70592.50000</td>\n",
       "      <td>2010.000000</td>\n",
       "      <td>0.000000</td>\n",
       "    </tr>\n",
       "    <tr>\n",
       "      <th>max</th>\n",
       "      <td>479.000000</td>\n",
       "      <td>64.000000</td>\n",
       "      <td>2000.000000</td>\n",
       "      <td>2047.590000</td>\n",
       "      <td>1.000000e+07</td>\n",
       "      <td>620962.000000</td>\n",
       "      <td>100500.000000</td>\n",
       "      <td>0.000000</td>\n",
       "      <td>4.00000</td>\n",
       "      <td>2.000000</td>\n",
       "      <td>3.000000</td>\n",
       "      <td>114920.00000</td>\n",
       "      <td>2015.000000</td>\n",
       "      <td>1.000000</td>\n",
       "    </tr>\n",
       "  </tbody>\n",
       "</table>\n",
       "</div>"
      ],
      "text/plain": [
       "       months_as_customer          age  policy_deductable  \\\n",
       "count         1000.000000  1000.000000        1000.000000   \n",
       "mean           203.954000    38.948000        1136.000000   \n",
       "std            115.113174     9.140287         611.864673   \n",
       "min              0.000000    19.000000         500.000000   \n",
       "25%            115.750000    32.000000         500.000000   \n",
       "50%            199.500000    38.000000        1000.000000   \n",
       "75%            276.250000    44.000000        2000.000000   \n",
       "max            479.000000    64.000000        2000.000000   \n",
       "\n",
       "       policy_annual_premium  umbrella_limit    insured_zip  capital-gains  \\\n",
       "count            1000.000000    1.000000e+03    1000.000000    1000.000000   \n",
       "mean             1256.406150    1.101000e+06  501214.488000   25126.100000   \n",
       "std               244.167395    2.297407e+06   71701.610941   27872.187708   \n",
       "min               433.330000   -1.000000e+06  430104.000000       0.000000   \n",
       "25%              1089.607500    0.000000e+00  448404.500000       0.000000   \n",
       "50%              1257.200000    0.000000e+00  466445.500000       0.000000   \n",
       "75%              1415.695000    0.000000e+00  603251.000000   51025.000000   \n",
       "max              2047.590000    1.000000e+07  620962.000000  100500.000000   \n",
       "\n",
       "        capital-loss  number_of_vehicles_involved  bodily_injuries  \\\n",
       "count    1000.000000                   1000.00000      1000.000000   \n",
       "mean   -26793.700000                      1.83900         0.992000   \n",
       "std     28104.096686                      1.01888         0.820127   \n",
       "min   -111100.000000                      1.00000         0.000000   \n",
       "25%    -51500.000000                      1.00000         0.000000   \n",
       "50%    -23250.000000                      1.00000         1.000000   \n",
       "75%         0.000000                      3.00000         2.000000   \n",
       "max         0.000000                      4.00000         2.000000   \n",
       "\n",
       "         witnesses  total_claim_amount    auto_year  fraud_reported  \n",
       "count  1000.000000          1000.00000  1000.000000     1000.000000  \n",
       "mean      1.487000         52761.94000  2005.103000        0.247000  \n",
       "std       1.111335         26401.53319     6.015861        0.431483  \n",
       "min       0.000000           100.00000  1995.000000        0.000000  \n",
       "25%       1.000000         41812.50000  2000.000000        0.000000  \n",
       "50%       1.000000         58055.00000  2005.000000        0.000000  \n",
       "75%       2.000000         70592.50000  2010.000000        0.000000  \n",
       "max       3.000000        114920.00000  2015.000000        1.000000  "
      ]
     },
     "execution_count": 29,
     "metadata": {},
     "output_type": "execute_result"
    }
   ],
   "source": [
    "df.describe()"
   ]
  },
  {
   "cell_type": "markdown",
   "id": "b48dc731",
   "metadata": {},
   "source": [
    "Though we are able to see few outliers in months as customer, age, policy premium, etc.,\n",
    "\n",
    "Will see through all the data and try to process them."
   ]
  },
  {
   "cell_type": "code",
   "execution_count": 30,
   "id": "4514d6d6",
   "metadata": {},
   "outputs": [],
   "source": [
    "#As we have already read the encoder above, we will encode the rest here.\n",
    "\n",
    "for i in df.columns:\n",
    "    if df[i].dtypes == 'object':\n",
    "        df[i] = enc.fit_transform(df[i].values.reshape(-1,1))"
   ]
  },
  {
   "cell_type": "markdown",
   "id": "fe740a7b",
   "metadata": {},
   "source": [
    "Checking for Zscore"
   ]
  },
  {
   "cell_type": "code",
   "execution_count": 31,
   "id": "b369825d",
   "metadata": {},
   "outputs": [
    {
     "name": "stdout",
     "output_type": "stream",
     "text": [
      "(array([ 31,  48,  88, 115, 119, 229, 248, 262, 314, 430, 458, 503, 657,\n",
      "       700, 763, 807, 875, 922, 975], dtype=int64), array([ 6,  6,  6,  6,  6,  5,  5,  6,  6,  6,  6,  6,  6,  6,  5, 14,  6,\n",
      "        6,  6], dtype=int64))\n"
     ]
    }
   ],
   "source": [
    "from scipy.stats import zscore\n",
    "z=np.abs(zscore(df))\n",
    "threshold=3\n",
    "print(np.where(z>3))"
   ]
  },
  {
   "cell_type": "code",
   "execution_count": 32,
   "id": "00ace429",
   "metadata": {},
   "outputs": [
    {
     "name": "stdout",
     "output_type": "stream",
     "text": [
      "(1000, 30)\n",
      "(981, 30)\n"
     ]
    }
   ],
   "source": [
    "dfn = df[(z<3).all(axis=1)]\n",
    "print(df.shape)\n",
    "print(dfn.shape)"
   ]
  },
  {
   "cell_type": "code",
   "execution_count": 33,
   "id": "7ec9d2ac",
   "metadata": {},
   "outputs": [
    {
     "data": {
      "text/plain": [
       "1.9"
      ]
     },
     "execution_count": 33,
     "metadata": {},
     "output_type": "execute_result"
    }
   ],
   "source": [
    "# percentage of data loss.\n",
    "data_loss = ((1000-981)/1000)*100\n",
    "data_loss"
   ]
  },
  {
   "cell_type": "code",
   "execution_count": 34,
   "id": "59960e4d",
   "metadata": {},
   "outputs": [],
   "source": [
    "# Let's Split our data into features & label\n",
    "x=dfn.drop(columns='fraud_reported')\n",
    "y=dfn['fraud_reported']"
   ]
  },
  {
   "cell_type": "code",
   "execution_count": 35,
   "id": "792f0e4f",
   "metadata": {},
   "outputs": [],
   "source": [
    "from sklearn.preprocessing import StandardScaler\n",
    "sc = StandardScaler()\n",
    "x_scaled = sc.fit_transform(x)"
   ]
  },
  {
   "cell_type": "markdown",
   "id": "cac83af8",
   "metadata": {},
   "source": [
    "# Model Building"
   ]
  },
  {
   "cell_type": "code",
   "execution_count": 36,
   "id": "6cdbcfd1",
   "metadata": {},
   "outputs": [],
   "source": [
    "from sklearn.model_selection import train_test_split"
   ]
  },
  {
   "cell_type": "code",
   "execution_count": 37,
   "id": "83d89e3c",
   "metadata": {},
   "outputs": [],
   "source": [
    "x_train, x_test, y_train, y_test=train_test_split(x_scaled,y, test_size=.30,random_state=49)"
   ]
  },
  {
   "cell_type": "code",
   "execution_count": 38,
   "id": "5e0432c4",
   "metadata": {},
   "outputs": [],
   "source": [
    "from sklearn.linear_model import LogisticRegression\n",
    "from sklearn.tree import DecisionTreeClassifier\n",
    "from sklearn.svm import SVC\n",
    "from sklearn.naive_bayes import GaussianNB\n",
    "from sklearn.ensemble import RandomForestClassifier\n",
    "from sklearn.neighbors import KNeighborsClassifier\n",
    "from sklearn.ensemble import AdaBoostClassifier\n",
    "from sklearn.metrics import accuracy_score, classification_report, confusion_matrix"
   ]
  },
  {
   "cell_type": "code",
   "execution_count": 39,
   "id": "b3645d25",
   "metadata": {},
   "outputs": [],
   "source": [
    "lr = LogisticRegression()\n",
    "gnb=GaussianNB()\n",
    "knc = KNeighborsClassifier()\n",
    "dtc = DecisionTreeClassifier()\n",
    "svc = SVC()\n",
    "rf = RandomForestClassifier()\n",
    "ada = AdaBoostClassifier()"
   ]
  },
  {
   "cell_type": "code",
   "execution_count": 40,
   "id": "8bd112dc",
   "metadata": {},
   "outputs": [
    {
     "name": "stdout",
     "output_type": "stream",
     "text": [
      "The model is:  LogisticRegression()\n",
      "Accuracy score for the training :  0.826530612244898\n",
      "Accuracy score for the model is:  0.7152542372881356\n",
      "Calssification Report is:                precision    recall  f1-score   support\n",
      "\n",
      "         0.0       0.76      0.89      0.82       214\n",
      "         1.0       0.47      0.26      0.33        81\n",
      "\n",
      "    accuracy                           0.72       295\n",
      "   macro avg       0.61      0.57      0.58       295\n",
      "weighted avg       0.68      0.72      0.69       295\n",
      "\n",
      "Confusion Matrix is:  [[190  24]\n",
      " [ 60  21]]\n",
      "\n",
      "\n",
      "\n",
      "The model is:  KNeighborsClassifier()\n",
      "Accuracy score for the training :  0.8075801749271136\n",
      "Accuracy score for the model is:  0.7084745762711865\n",
      "Calssification Report is:                precision    recall  f1-score   support\n",
      "\n",
      "         0.0       0.73      0.94      0.82       214\n",
      "         1.0       0.38      0.10      0.16        81\n",
      "\n",
      "    accuracy                           0.71       295\n",
      "   macro avg       0.56      0.52      0.49       295\n",
      "weighted avg       0.64      0.71      0.64       295\n",
      "\n",
      "Confusion Matrix is:  [[201  13]\n",
      " [ 73   8]]\n",
      "\n",
      "\n",
      "\n",
      "The model is:  DecisionTreeClassifier()\n",
      "Accuracy score for the training :  1.0\n",
      "Accuracy score for the model is:  0.8203389830508474\n",
      "Calssification Report is:                precision    recall  f1-score   support\n",
      "\n",
      "         0.0       0.86      0.89      0.88       214\n",
      "         1.0       0.69      0.63      0.66        81\n",
      "\n",
      "    accuracy                           0.82       295\n",
      "   macro avg       0.78      0.76      0.77       295\n",
      "weighted avg       0.82      0.82      0.82       295\n",
      "\n",
      "Confusion Matrix is:  [[191  23]\n",
      " [ 30  51]]\n",
      "\n",
      "\n",
      "\n",
      "The model is:  SVC()\n",
      "Accuracy score for the training :  0.8892128279883382\n",
      "Accuracy score for the model is:  0.7152542372881356\n",
      "Calssification Report is:                precision    recall  f1-score   support\n",
      "\n",
      "         0.0       0.73      0.97      0.83       214\n",
      "         1.0       0.36      0.05      0.09        81\n",
      "\n",
      "    accuracy                           0.72       295\n",
      "   macro avg       0.55      0.51      0.46       295\n",
      "weighted avg       0.63      0.72      0.63       295\n",
      "\n",
      "Confusion Matrix is:  [[207   7]\n",
      " [ 77   4]]\n",
      "\n",
      "\n",
      "\n",
      "The model is:  RandomForestClassifier()\n",
      "Accuracy score for the training :  1.0\n",
      "Accuracy score for the model is:  0.752542372881356\n",
      "Calssification Report is:                precision    recall  f1-score   support\n",
      "\n",
      "         0.0       0.79      0.89      0.84       214\n",
      "         1.0       0.57      0.40      0.47        81\n",
      "\n",
      "    accuracy                           0.75       295\n",
      "   macro avg       0.68      0.64      0.65       295\n",
      "weighted avg       0.73      0.75      0.74       295\n",
      "\n",
      "Confusion Matrix is:  [[190  24]\n",
      " [ 49  32]]\n",
      "\n",
      "\n",
      "\n",
      "The model is:  AdaBoostClassifier()\n",
      "Accuracy score for the training :  0.8702623906705539\n",
      "Accuracy score for the model is:  0.7593220338983051\n",
      "Calssification Report is:                precision    recall  f1-score   support\n",
      "\n",
      "         0.0       0.78      0.93      0.85       214\n",
      "         1.0       0.62      0.32      0.42        81\n",
      "\n",
      "    accuracy                           0.76       295\n",
      "   macro avg       0.70      0.62      0.64       295\n",
      "weighted avg       0.74      0.76      0.73       295\n",
      "\n",
      "Confusion Matrix is:  [[198  16]\n",
      " [ 55  26]]\n",
      "\n",
      "\n",
      "\n",
      "The model is:  GaussianNB()\n",
      "Accuracy score for the training :  0.8075801749271136\n",
      "Accuracy score for the model is:  0.7186440677966102\n",
      "Calssification Report is:                precision    recall  f1-score   support\n",
      "\n",
      "         0.0       0.79      0.84      0.81       214\n",
      "         1.0       0.48      0.40      0.44        81\n",
      "\n",
      "    accuracy                           0.72       295\n",
      "   macro avg       0.64      0.62      0.62       295\n",
      "weighted avg       0.70      0.72      0.71       295\n",
      "\n",
      "Confusion Matrix is:  [[180  34]\n",
      " [ 49  32]]\n",
      "\n",
      "\n",
      "\n"
     ]
    }
   ],
   "source": [
    "model=[lr,knc,dtc,svc,rf,ada,gnb]\n",
    "for m in model:\n",
    "    print('The model is: ',m)\n",
    "    m.fit(x_train,y_train)\n",
    "    predict=m.predict(x_test)\n",
    "    pred_train=m.predict(x_train)\n",
    "    print('Accuracy score for the training : ',accuracy_score(y_train,pred_train))\n",
    "    print('Accuracy score for the model is: ',accuracy_score(y_test,predict))\n",
    "    print('Calssification Report is: ',classification_report(y_test,predict))\n",
    "    print('Confusion Matrix is: ',confusion_matrix(y_test,predict))\n",
    "    print('\\n\\n')"
   ]
  },
  {
   "cell_type": "markdown",
   "id": "f16c6602",
   "metadata": {},
   "source": [
    "Above results shows that DecisionTreeClassifier is giving the best test accuracy i.e, 80.67%"
   ]
  },
  {
   "cell_type": "code",
   "execution_count": 41,
   "id": "b5049685",
   "metadata": {},
   "outputs": [
    {
     "name": "stdout",
     "output_type": "stream",
     "text": [
      "The model is: \n",
      " LogisticRegression()\n",
      "At cross fold 2 the cv score is 0.7573880876179392\n",
      "\n",
      "\n",
      "\n",
      "At cross fold 3 the cv score is 0.7512742099898063\n",
      "\n",
      "\n",
      "\n",
      "At cross fold 4 the cv score is 0.7533101045296167\n",
      "\n",
      "\n",
      "\n",
      "At cross fold 5 the cv score is 0.755350668186056\n",
      "\n",
      "\n",
      "\n",
      "At cross fold 6 the cv score is 0.754326899097212\n",
      "\n",
      "\n",
      "\n",
      "At cross fold 7 the cv score is 0.7543349254595455\n",
      "\n",
      "\n",
      "\n",
      "At cross fold 8 the cv score is 0.7533070105291217\n",
      "\n",
      "\n",
      "\n",
      "At cross fold 9 the cv score is 0.7543323139653415\n",
      "\n",
      "\n",
      "\n",
      "The model is: \n",
      " KNeighborsClassifier()\n",
      "At cross fold 2 the cv score is 0.6962197098798786\n",
      "\n",
      "\n",
      "\n",
      "At cross fold 3 the cv score is 0.6992864424057085\n",
      "\n",
      "\n",
      "\n",
      "At cross fold 4 the cv score is 0.7033432885349262\n",
      "\n",
      "\n",
      "\n",
      "At cross fold 5 the cv score is 0.7114990158499948\n",
      "\n",
      "\n",
      "\n",
      "At cross fold 6 the cv score is 0.7165943438575489\n",
      "\n",
      "\n",
      "\n",
      "At cross fold 7 the cv score is 0.7115139672890434\n",
      "\n",
      "\n",
      "\n",
      "At cross fold 8 the cv score is 0.7094662135145942\n",
      "\n",
      "\n",
      "\n",
      "At cross fold 9 the cv score is 0.7115188583078491\n",
      "\n",
      "\n",
      "\n",
      "The model is: \n",
      " DecisionTreeClassifier()\n",
      "At cross fold 2 the cv score is 0.7971320503761585\n",
      "\n",
      "\n",
      "\n",
      "At cross fold 3 the cv score is 0.7849133537206932\n",
      "\n",
      "\n",
      "\n",
      "At cross fold 4 the cv score is 0.8042682926829269\n",
      "\n",
      "\n",
      "\n",
      "At cross fold 5 the cv score is 0.7910079767947787\n",
      "\n",
      "\n",
      "\n",
      "At cross fold 6 the cv score is 0.7859618933612649\n",
      "\n",
      "\n",
      "\n",
      "At cross fold 7 the cv score is 0.7808365899551309\n",
      "\n",
      "\n",
      "\n",
      "At cross fold 8 the cv score is 0.7798297347727576\n",
      "\n",
      "\n",
      "\n",
      "At cross fold 9 the cv score is 0.7737003058103976\n",
      "\n",
      "\n",
      "\n",
      "The model is: \n",
      " SVC()\n",
      "At cross fold 2 the cv score is 0.7553514277401387\n",
      "\n",
      "\n",
      "\n",
      "At cross fold 3 the cv score is 0.7553516819571865\n",
      "\n",
      "\n",
      "\n",
      "At cross fold 4 the cv score is 0.7553509208561473\n",
      "\n",
      "\n",
      "\n",
      "At cross fold 5 the cv score is 0.755350668186056\n",
      "\n",
      "\n",
      "\n",
      "At cross fold 6 the cv score is 0.7553493939847374\n",
      "\n",
      "\n",
      "\n",
      "At cross fold 7 the cv score is 0.7553553336228108\n",
      "\n",
      "\n",
      "\n",
      "At cross fold 8 the cv score is 0.7553478608556577\n",
      "\n",
      "\n",
      "\n",
      "At cross fold 9 the cv score is 0.7553516819571866\n",
      "\n",
      "\n",
      "\n",
      "The model is: \n",
      " RandomForestClassifier()\n",
      "At cross fold 2 the cv score is 0.7747142441497984\n",
      "\n",
      "\n",
      "\n",
      "At cross fold 3 the cv score is 0.7777777777777778\n",
      "\n",
      "\n",
      "\n",
      "At cross fold 4 the cv score is 0.7747179359548697\n",
      "\n",
      "\n",
      "\n",
      "At cross fold 5 the cv score is 0.7808194343727337\n",
      "\n",
      "\n",
      "\n",
      "At cross fold 6 the cv score is 0.7736919547109581\n",
      "\n",
      "\n",
      "\n",
      "At cross fold 7 the cv score is 0.7696193370965407\n",
      "\n",
      "\n",
      "\n",
      "At cross fold 8 the cv score is 0.7777972144475542\n",
      "\n",
      "\n",
      "\n",
      "At cross fold 9 the cv score is 0.764525993883792\n",
      "\n",
      "\n",
      "\n",
      "The model is: \n",
      " AdaBoostClassifier()\n",
      "At cross fold 2 the cv score is 0.7940832952325534\n",
      "\n",
      "\n",
      "\n",
      "At cross fold 3 the cv score is 0.7951070336391437\n",
      "\n",
      "\n",
      "\n",
      "At cross fold 4 the cv score is 0.801231956197113\n",
      "\n",
      "\n",
      "\n",
      "At cross fold 5 the cv score is 0.798181912358852\n",
      "\n",
      "\n",
      "\n",
      "At cross fold 6 the cv score is 0.8022906379370541\n",
      "\n",
      "\n",
      "\n",
      "At cross fold 7 the cv score is 0.8022651613837023\n",
      "\n",
      "\n",
      "\n",
      "At cross fold 8 the cv score is 0.8002465680394509\n",
      "\n",
      "\n",
      "\n",
      "At cross fold 9 the cv score is 0.8093781855249745\n",
      "\n",
      "\n",
      "\n",
      "The model is: \n",
      " GaussianNB()\n",
      "At cross fold 2 the cv score is 0.748214805270377\n",
      "\n",
      "\n",
      "\n",
      "At cross fold 3 the cv score is 0.7349643221202854\n",
      "\n",
      "\n",
      "\n",
      "At cross fold 4 the cv score is 0.7359631657541064\n",
      "\n",
      "\n",
      "\n",
      "At cross fold 5 the cv score is 0.7431057702268724\n",
      "\n",
      "\n",
      "\n",
      "At cross fold 6 the cv score is 0.7431106289590503\n",
      "\n",
      "\n",
      "\n",
      "At cross fold 7 the cv score is 0.7400492111738313\n",
      "\n",
      "\n",
      "\n",
      "At cross fold 8 the cv score is 0.7441440090630415\n",
      "\n",
      "\n",
      "\n",
      "At cross fold 9 the cv score is 0.7420998980632008\n",
      "\n",
      "\n",
      "\n"
     ]
    }
   ],
   "source": [
    "# Cross validation\n",
    "\n",
    "from sklearn.model_selection import cross_val_score\n",
    "from sklearn.model_selection import cross_val_predict\n",
    "model = [lr, knc, dtc, svc, rf, ada, gnb]\n",
    "for m in model:\n",
    "    print('The model is: \\n',m)\n",
    "    for j in range (2,10):\n",
    "        train_accuracy = accuracy_score(y_train, pred_train)\n",
    "        test_accuracy = accuracy_score(y_test, predict)\n",
    "        cv_score = cross_val_score(m, x, y, cv = j)\n",
    "        cv_mean = cv_score.mean()\n",
    "        print(f'At cross fold {j} the cv score is {cv_mean}')\n",
    "        print('\\n\\n')"
   ]
  },
  {
   "cell_type": "code",
   "execution_count": 42,
   "id": "5e2e9380",
   "metadata": {},
   "outputs": [],
   "source": [
    "# Let's plot AUC ROC curve\n",
    "\n",
    "from sklearn.metrics import roc_curve,roc_auc_score"
   ]
  },
  {
   "cell_type": "code",
   "execution_count": 43,
   "id": "866ced77",
   "metadata": {},
   "outputs": [],
   "source": [
    "y_predprob=dtc.predict_proba(x_test)[:,1]"
   ]
  },
  {
   "cell_type": "code",
   "execution_count": 44,
   "id": "682a62cd",
   "metadata": {},
   "outputs": [],
   "source": [
    "fpr,tpr,thresholds=roc_curve(y_test,y_predprob)"
   ]
  },
  {
   "cell_type": "code",
   "execution_count": 45,
   "id": "8b9c04a5",
   "metadata": {},
   "outputs": [
    {
     "data": {
      "text/plain": [
       "array([0.        , 0.10747664, 1.        ])"
      ]
     },
     "execution_count": 45,
     "metadata": {},
     "output_type": "execute_result"
    }
   ],
   "source": [
    "fpr"
   ]
  },
  {
   "cell_type": "code",
   "execution_count": 46,
   "id": "952968cc",
   "metadata": {},
   "outputs": [
    {
     "data": {
      "text/plain": [
       "array([0.        , 0.62962963, 1.        ])"
      ]
     },
     "execution_count": 46,
     "metadata": {},
     "output_type": "execute_result"
    }
   ],
   "source": [
    "tpr"
   ]
  },
  {
   "cell_type": "code",
   "execution_count": 47,
   "id": "cc20ccab",
   "metadata": {},
   "outputs": [
    {
     "data": {
      "text/plain": [
       "array([2., 1., 0.])"
      ]
     },
     "execution_count": 47,
     "metadata": {},
     "output_type": "execute_result"
    }
   ],
   "source": [
    "thresholds"
   ]
  },
  {
   "cell_type": "code",
   "execution_count": 48,
   "id": "5c467a13",
   "metadata": {},
   "outputs": [
    {
     "data": {
      "image/png": "[encoded data removed]",
      "text/plain": [
       "<Figure size 432x288 with 1 Axes>"
      ]
     },
     "metadata": {
      "needs_background": "light"
     },
     "output_type": "display_data"
    }
   ],
   "source": [
    "plt.plot([0,1],[0,1],'k--')\n",
    "plt.plot(fpr,tpr,label='Adaboost Classifier')\n",
    "plt.xlabel('False Positive Rate')\n",
    "plt.ylabel('True Positive Rate')\n",
    "plt.title('Decision Tree Classifier')\n",
    "plt.show()"
   ]
  },
  {
   "cell_type": "code",
   "execution_count": 49,
   "id": "3a88708c",
   "metadata": {},
   "outputs": [
    {
     "data": {
      "text/plain": [
       "0.5735548632744895"
      ]
     },
     "execution_count": 49,
     "metadata": {},
     "output_type": "execute_result"
    }
   ],
   "source": [
    "Auc_score=roc_auc_score(y_test,lr.predict(x_test))\n",
    "Auc_score"
   ]
  },
  {
   "cell_type": "markdown",
   "id": "f0f09d37",
   "metadata": {},
   "source": [
    "# Let's do some Hyperparameter tuning Using Grid Search"
   ]
  },
  {
   "cell_type": "code",
   "execution_count": 50,
   "id": "6dfbd9b3",
   "metadata": {},
   "outputs": [],
   "source": [
    "from sklearn.model_selection import GridSearchCV"
   ]
  },
  {
   "cell_type": "code",
   "execution_count": 51,
   "id": "548a9881",
   "metadata": {},
   "outputs": [],
   "source": [
    "param = {'criterion':['gini', 'entropy'],'splitter':['best', 'random'],'max_features':['log2','auto','sqrt']}"
   ]
  },
  {
   "cell_type": "code",
   "execution_count": 52,
   "id": "03b1330b",
   "metadata": {},
   "outputs": [],
   "source": [
    "modeldtr = DecisionTreeClassifier()"
   ]
  },
  {
   "cell_type": "code",
   "execution_count": 53,
   "id": "9de0ffc2",
   "metadata": {},
   "outputs": [],
   "source": [
    "grids = GridSearchCV(modeldtr,param,cv=4)"
   ]
  },
  {
   "cell_type": "code",
   "execution_count": 54,
   "id": "b7fca602",
   "metadata": {},
   "outputs": [],
   "source": [
    "grid_result = grids.fit(x_train, y_train)"
   ]
  },
  {
   "cell_type": "code",
   "execution_count": 55,
   "id": "0f84e09f",
   "metadata": {},
   "outputs": [
    {
     "name": "stdout",
     "output_type": "stream",
     "text": [
      "{'criterion': 'entropy', 'max_features': 'log2', 'splitter': 'best'}\n"
     ]
    }
   ],
   "source": [
    "print(grids.best_params_)"
   ]
  },
  {
   "cell_type": "code",
   "execution_count": 56,
   "id": "b1ec7887",
   "metadata": {},
   "outputs": [
    {
     "name": "stdout",
     "output_type": "stream",
     "text": [
      "Best Score:  0.7537059703522371\n"
     ]
    }
   ],
   "source": [
    "print('Best Score: ', grid_result.best_score_)"
   ]
  },
  {
   "cell_type": "code",
   "execution_count": 57,
   "id": "c26ded05",
   "metadata": {},
   "outputs": [],
   "source": [
    "dtr=DecisionTreeClassifier(criterion='entropy',max_features='auto',splitter='best')"
   ]
  },
  {
   "cell_type": "code",
   "execution_count": 58,
   "id": "af3d483f",
   "metadata": {},
   "outputs": [
    {
     "data": {
      "text/html": [
       "<div>\n",
       "<style scoped>\n",
       "    .dataframe tbody tr th:only-of-type {\n",
       "        vertical-align: middle;\n",
       "    }\n",
       "\n",
       "    .dataframe tbody tr th {\n",
       "        vertical-align: top;\n",
       "    }\n",
       "\n",
       "    .dataframe thead th {\n",
       "        text-align: right;\n",
       "    }\n",
       "</style>\n",
       "<table border=\"1\" class=\"dataframe\">\n",
       "  <thead>\n",
       "    <tr style=\"text-align: right;\">\n",
       "      <th></th>\n",
       "      <th>0</th>\n",
       "      <th>1</th>\n",
       "      <th>2</th>\n",
       "      <th>3</th>\n",
       "      <th>4</th>\n",
       "      <th>5</th>\n",
       "      <th>6</th>\n",
       "      <th>7</th>\n",
       "      <th>8</th>\n",
       "      <th>9</th>\n",
       "      <th>...</th>\n",
       "      <th>285</th>\n",
       "      <th>286</th>\n",
       "      <th>287</th>\n",
       "      <th>288</th>\n",
       "      <th>289</th>\n",
       "      <th>290</th>\n",
       "      <th>291</th>\n",
       "      <th>292</th>\n",
       "      <th>293</th>\n",
       "      <th>294</th>\n",
       "    </tr>\n",
       "  </thead>\n",
       "  <tbody>\n",
       "    <tr>\n",
       "      <th>Predicted</th>\n",
       "      <td>1.0</td>\n",
       "      <td>0.0</td>\n",
       "      <td>0.0</td>\n",
       "      <td>0.0</td>\n",
       "      <td>0.0</td>\n",
       "      <td>0.0</td>\n",
       "      <td>1.0</td>\n",
       "      <td>0.0</td>\n",
       "      <td>0.0</td>\n",
       "      <td>0.0</td>\n",
       "      <td>...</td>\n",
       "      <td>1.0</td>\n",
       "      <td>0.0</td>\n",
       "      <td>0.0</td>\n",
       "      <td>0.0</td>\n",
       "      <td>1.0</td>\n",
       "      <td>1.0</td>\n",
       "      <td>1.0</td>\n",
       "      <td>0.0</td>\n",
       "      <td>0.0</td>\n",
       "      <td>0.0</td>\n",
       "    </tr>\n",
       "    <tr>\n",
       "      <th>Actual</th>\n",
       "      <td>1.0</td>\n",
       "      <td>0.0</td>\n",
       "      <td>1.0</td>\n",
       "      <td>0.0</td>\n",
       "      <td>0.0</td>\n",
       "      <td>0.0</td>\n",
       "      <td>0.0</td>\n",
       "      <td>0.0</td>\n",
       "      <td>1.0</td>\n",
       "      <td>0.0</td>\n",
       "      <td>...</td>\n",
       "      <td>1.0</td>\n",
       "      <td>0.0</td>\n",
       "      <td>0.0</td>\n",
       "      <td>1.0</td>\n",
       "      <td>1.0</td>\n",
       "      <td>0.0</td>\n",
       "      <td>0.0</td>\n",
       "      <td>0.0</td>\n",
       "      <td>0.0</td>\n",
       "      <td>0.0</td>\n",
       "    </tr>\n",
       "  </tbody>\n",
       "</table>\n",
       "<p>2 rows × 295 columns</p>\n",
       "</div>"
      ],
      "text/plain": [
       "           0    1    2    3    4    5    6    7    8    9    ...  285  286  \\\n",
       "Predicted  1.0  0.0  0.0  0.0  0.0  0.0  1.0  0.0  0.0  0.0  ...  1.0  0.0   \n",
       "Actual     1.0  0.0  1.0  0.0  0.0  0.0  0.0  0.0  1.0  0.0  ...  1.0  0.0   \n",
       "\n",
       "           287  288  289  290  291  292  293  294  \n",
       "Predicted  0.0  0.0  1.0  1.0  1.0  0.0  0.0  0.0  \n",
       "Actual     0.0  1.0  1.0  0.0  0.0  0.0  0.0  0.0  \n",
       "\n",
       "[2 rows x 295 columns]"
      ]
     },
     "execution_count": 58,
     "metadata": {},
     "output_type": "execute_result"
    }
   ],
   "source": [
    "dtr.fit(x_train, y_train)\n",
    "dtr.score(x_train, y_train)\n",
    "preddtr = dtr.predict(x_test)\n",
    "data = [preddtr, y_test]\n",
    "pd.DataFrame(data, index = ['Predicted', 'Actual'])"
   ]
  },
  {
   "cell_type": "code",
   "execution_count": 59,
   "id": "08c6999e",
   "metadata": {},
   "outputs": [
    {
     "name": "stdout",
     "output_type": "stream",
     "text": [
      "Errors:\n",
      "\n",
      "\n",
      "Accuracy score for the training :  0.8075801749271136\n",
      "Accuracy score for the model is:  0.7186440677966102\n",
      "Calssification Report is:                precision    recall  f1-score   support\n",
      "\n",
      "         0.0       0.79      0.84      0.81       214\n",
      "         1.0       0.48      0.40      0.44        81\n",
      "\n",
      "    accuracy                           0.72       295\n",
      "   macro avg       0.64      0.62      0.62       295\n",
      "weighted avg       0.70      0.72      0.71       295\n",
      "\n",
      "Confusion Matrix is:  [[180  34]\n",
      " [ 49  32]]\n",
      "\n",
      "\n",
      "\n"
     ]
    }
   ],
   "source": [
    "print('Errors:')\n",
    "print('\\n')\n",
    "print('Accuracy score for the training : ',accuracy_score(y_train,pred_train))\n",
    "print('Accuracy score for the model is: ',accuracy_score(y_test,predict))\n",
    "print('Calssification Report is: ',classification_report(y_test,predict))\n",
    "print('Confusion Matrix is: ',confusion_matrix(y_test,predict))\n",
    "print('\\n\\n')"
   ]
  },
  {
   "cell_type": "code",
   "execution_count": 60,
   "id": "a5849399",
   "metadata": {},
   "outputs": [
    {
     "data": {
      "text/plain": [
       "['Insurancedtr.obj']"
      ]
     },
     "execution_count": 60,
     "metadata": {},
     "output_type": "execute_result"
    }
   ],
   "source": [
    "#let's save our model\n",
    "\n",
    "import joblib\n",
    "joblib.dump(lr,'Insurancedtr.obj')"
   ]
  },
  {
   "cell_type": "markdown",
   "id": "10caef3d",
   "metadata": {},
   "source": [
    "Model Saved"
   ]
  }
 ],
 "metadata": {
  "kernelspec": {
   "display_name": "Python 3 (ipykernel)",
   "language": "python",
   "name": "python3"
  },
  "language_info": {
   "codemirror_mode": {
    "name": "ipython",
    "version": 3
   },
   "file_extension": ".py",
   "mimetype": "text/x-python",
   "name": "python",
   "nbconvert_exporter": "python",
   "pygments_lexer": "ipython3",
   "version": "3.9.7"
  }
 },
 "nbformat": 4,
 "nbformat_minor": 5
}
